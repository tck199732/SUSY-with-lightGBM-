{
 "cells": [
  {
   "cell_type": "markdown",
   "id": "81f4b30b",
   "metadata": {},
   "source": [
    "# Searching for Supersymmetry Particles in High-Energy Physics with Deep Learning"
   ]
  },
  {
   "cell_type": "markdown",
   "id": "2c87a74f",
   "metadata": {},
   "source": [
    "## 1 .Motivation"
   ]
  },
  {
   "cell_type": "markdown",
   "id": "e4ac2939",
   "metadata": {},
   "source": [
    "In the supersymmetry theory, it is predicted that an invisible particle $\\chi^0$ is produced by colliding particles at high energy, or in the other words, close to the spedd of light. Unlike other particles such as protons and electrons, the supersymmetry particles does not interact with electromagnet wave (light), resembling the property of a mysterious object filling the majority of our universe -- the Dark Matter."
   ]
  },
  {
   "cell_type": "markdown",
   "id": "e2b16d29",
   "metadata": {},
   "source": [
    "<center>\n",
    "<figure>\n",
    "    <img src=\"Image/dark matter.jpg\" width=\"320\" height=\"320\" alt=\"Fig.1\" align=\"center\"/>\n",
    "    <figcaption> Fig.1 - Distribution of dark matter in the universe </figcaption>\n",
    "</figure>\n",
    "</center>"
   ]
  },
  {
   "cell_type": "markdown",
   "id": "ddd19c6c",
   "metadata": {},
   "source": [
    "In the Supersymmetry theory, the processing predicting the production of the exotic particle can be depicted by the famous Feynman diagram, see the figure 2(left).\n",
    "\n",
    "<center>\n",
    "<figure>\n",
    "        <img src=\"Image/susy.PNG\" width=\"600\" height=\"600\" align=\"center\"/>\n",
    "    <figcaption> Fig.2 - Feynman diagram of the SUSY process </figcaption>\n",
    "</figure>    \n",
    "</center>\n",
    "\n"
   ]
  },
  {
   "cell_type": "markdown",
   "id": "22a093a6",
   "metadata": {},
   "source": [
    "The particle $\\chi^0$ with the red circles are the invisible particles we want to observe in a particle collision experiment. However, these exotic particles does not deposit any energy on the material as it trasverses and thus they are undetectable even with a detector with perfect efficiency. The solution is to measure the energy, momentum and other kinetic observables of the leptons acompananied with $\\chi^0$ particles (labeled as $l^+$ and $l^-$). With the use of physics equations, one can deduce the \"missing energy\" carried away by the invisible $\\chi^0$. \n",
    "\n",
    "It is not the end of the story. $\\chi^0$ is the not only kind of particle that penetrates our detectors leaving no evidence it exists. The neutrino, labeled as $\\nu$, also shows little or no interaction with our detectors. Therefore, given a measured \"missing energy\", there is no way one can tell whether the signal comes from a new particle $\\chi^0$ (left of Fig.2) or from a background process which produces neutrino (right of Fig.2)."
   ]
  },
  {
   "cell_type": "markdown",
   "id": "c0534afa",
   "metadata": {},
   "source": [
    "## 2. Rationale "
   ]
  },
  {
   "cell_type": "markdown",
   "id": "efbded1a",
   "metadata": {},
   "source": [
    "This project aims to apply the method of machine learning to help us better distinguish the signal in a simulated data. The rationale is to firstly train a model which is able to predict the source of the signal with certain accuracy (small test error), then apply this model to the experimental data where no response (y) is known in advance."
   ]
  },
  {
   "cell_type": "markdown",
   "id": "5dc0cb0c",
   "metadata": {},
   "source": [
    "## 3. SUSY data set"
   ]
  },
  {
   "cell_type": "markdown",
   "id": "c1e3a23e",
   "metadata": {},
   "source": [
    "The data has been produced using Monte Carlo simulations. The first 8 features are kinematic properties measured by the particle detectors in the accelerator. The last ten features are functions of the first 8 features; these are high-level features derived by physicists to help discriminate between the two classes. To load the dataset, first import the essential packages."
   ]
  },
  {
   "cell_type": "markdown",
   "id": "3aabd794",
   "metadata": {},
   "source": [
    "### 3.1 Importing packages"
   ]
  },
  {
   "cell_type": "code",
   "execution_count": 1,
   "id": "1b0fd3a9",
   "metadata": {},
   "outputs": [],
   "source": [
    "import sys\n",
    "sys.path.append(\"jupy_env/lib/python3.8/site-packages\")\n",
    "\n",
    "import time\n",
    "import numpy as np\n",
    "import pandas as pd\n",
    "import matplotlib.pyplot as plt\n",
    "%matplotlib inline"
   ]
  },
  {
   "cell_type": "markdown",
   "id": "7cd3744a",
   "metadata": {},
   "source": [
    "### 3.2 Data loading and cleaning"
   ]
  },
  {
   "cell_type": "code",
   "execution_count": 2,
   "id": "6158a492",
   "metadata": {},
   "outputs": [],
   "source": [
    "df = pd.read_csv(\"./data/SUSY.csv\", header=None)"
   ]
  },
  {
   "cell_type": "code",
   "execution_count": 3,
   "id": "99994de5",
   "metadata": {},
   "outputs": [
    {
     "data": {
      "text/plain": [
       "(5000000, 19)"
      ]
     },
     "execution_count": 3,
     "metadata": {},
     "output_type": "execute_result"
    }
   ],
   "source": [
    "df.dropna()\n",
    "df.shape"
   ]
  },
  {
   "cell_type": "code",
   "execution_count": 4,
   "id": "9bd41bd0",
   "metadata": {},
   "outputs": [
    {
     "data": {
      "text/html": [
       "<div>\n",
       "<style scoped>\n",
       "    .dataframe tbody tr th:only-of-type {\n",
       "        vertical-align: middle;\n",
       "    }\n",
       "\n",
       "    .dataframe tbody tr th {\n",
       "        vertical-align: top;\n",
       "    }\n",
       "\n",
       "    .dataframe thead th {\n",
       "        text-align: right;\n",
       "    }\n",
       "</style>\n",
       "<table border=\"1\" class=\"dataframe\">\n",
       "  <thead>\n",
       "    <tr style=\"text-align: right;\">\n",
       "      <th></th>\n",
       "      <th>signal</th>\n",
       "      <th>lepton 1 pT</th>\n",
       "      <th>lepton 1 eta</th>\n",
       "      <th>lepton 1 phi</th>\n",
       "      <th>lepton 2 pT</th>\n",
       "      <th>lepton 2 eta</th>\n",
       "      <th>lepton 2 phi</th>\n",
       "      <th>missing energy magnitude</th>\n",
       "      <th>missing energy phi</th>\n",
       "      <th>MET_rel</th>\n",
       "      <th>axial MET</th>\n",
       "      <th>M_R</th>\n",
       "      <th>M_TR_2</th>\n",
       "      <th>R</th>\n",
       "      <th>MT2</th>\n",
       "      <th>S_R</th>\n",
       "      <th>M_Delta_R</th>\n",
       "      <th>dPhi_r_b</th>\n",
       "      <th>cos(theta_r1)</th>\n",
       "    </tr>\n",
       "  </thead>\n",
       "  <tbody>\n",
       "    <tr>\n",
       "      <th>0</th>\n",
       "      <td>0.0</td>\n",
       "      <td>0.972861</td>\n",
       "      <td>0.653855</td>\n",
       "      <td>1.176225</td>\n",
       "      <td>1.157156</td>\n",
       "      <td>-1.739873</td>\n",
       "      <td>-0.874309</td>\n",
       "      <td>0.567765</td>\n",
       "      <td>-0.175000</td>\n",
       "      <td>0.810061</td>\n",
       "      <td>-0.252552</td>\n",
       "      <td>1.921887</td>\n",
       "      <td>0.889637</td>\n",
       "      <td>0.410772</td>\n",
       "      <td>1.145621</td>\n",
       "      <td>1.932632</td>\n",
       "      <td>0.994464</td>\n",
       "      <td>1.367815</td>\n",
       "      <td>0.040714</td>\n",
       "    </tr>\n",
       "    <tr>\n",
       "      <th>1</th>\n",
       "      <td>1.0</td>\n",
       "      <td>1.667973</td>\n",
       "      <td>0.064191</td>\n",
       "      <td>-1.225171</td>\n",
       "      <td>0.506102</td>\n",
       "      <td>-0.338939</td>\n",
       "      <td>1.672543</td>\n",
       "      <td>3.475464</td>\n",
       "      <td>-1.219136</td>\n",
       "      <td>0.012955</td>\n",
       "      <td>3.775174</td>\n",
       "      <td>1.045977</td>\n",
       "      <td>0.568051</td>\n",
       "      <td>0.481928</td>\n",
       "      <td>0.000000</td>\n",
       "      <td>0.448410</td>\n",
       "      <td>0.205356</td>\n",
       "      <td>1.321893</td>\n",
       "      <td>0.377584</td>\n",
       "    </tr>\n",
       "    <tr>\n",
       "      <th>2</th>\n",
       "      <td>1.0</td>\n",
       "      <td>0.444840</td>\n",
       "      <td>-0.134298</td>\n",
       "      <td>-0.709972</td>\n",
       "      <td>0.451719</td>\n",
       "      <td>-1.613871</td>\n",
       "      <td>-0.768661</td>\n",
       "      <td>1.219918</td>\n",
       "      <td>0.504026</td>\n",
       "      <td>1.831248</td>\n",
       "      <td>-0.431385</td>\n",
       "      <td>0.526283</td>\n",
       "      <td>0.941514</td>\n",
       "      <td>1.587535</td>\n",
       "      <td>2.024308</td>\n",
       "      <td>0.603498</td>\n",
       "      <td>1.562374</td>\n",
       "      <td>1.135454</td>\n",
       "      <td>0.180910</td>\n",
       "    </tr>\n",
       "    <tr>\n",
       "      <th>3</th>\n",
       "      <td>1.0</td>\n",
       "      <td>0.381256</td>\n",
       "      <td>-0.976145</td>\n",
       "      <td>0.693152</td>\n",
       "      <td>0.448959</td>\n",
       "      <td>0.891753</td>\n",
       "      <td>-0.677328</td>\n",
       "      <td>2.033060</td>\n",
       "      <td>1.533041</td>\n",
       "      <td>3.046260</td>\n",
       "      <td>-1.005285</td>\n",
       "      <td>0.569386</td>\n",
       "      <td>1.015211</td>\n",
       "      <td>1.582217</td>\n",
       "      <td>1.551914</td>\n",
       "      <td>0.761215</td>\n",
       "      <td>1.715464</td>\n",
       "      <td>1.492257</td>\n",
       "      <td>0.090719</td>\n",
       "    </tr>\n",
       "    <tr>\n",
       "      <th>4</th>\n",
       "      <td>1.0</td>\n",
       "      <td>1.309996</td>\n",
       "      <td>-0.690089</td>\n",
       "      <td>-0.676259</td>\n",
       "      <td>1.589283</td>\n",
       "      <td>-0.693326</td>\n",
       "      <td>0.622907</td>\n",
       "      <td>1.087562</td>\n",
       "      <td>-0.381742</td>\n",
       "      <td>0.589204</td>\n",
       "      <td>1.365479</td>\n",
       "      <td>1.179295</td>\n",
       "      <td>0.968218</td>\n",
       "      <td>0.728563</td>\n",
       "      <td>0.000000</td>\n",
       "      <td>1.083158</td>\n",
       "      <td>0.043429</td>\n",
       "      <td>1.154854</td>\n",
       "      <td>0.094859</td>\n",
       "    </tr>\n",
       "  </tbody>\n",
       "</table>\n",
       "</div>"
      ],
      "text/plain": [
       "   signal  lepton 1 pT  lepton 1 eta  lepton 1 phi  lepton 2 pT  lepton 2 eta  \\\n",
       "0     0.0     0.972861      0.653855      1.176225     1.157156     -1.739873   \n",
       "1     1.0     1.667973      0.064191     -1.225171     0.506102     -0.338939   \n",
       "2     1.0     0.444840     -0.134298     -0.709972     0.451719     -1.613871   \n",
       "3     1.0     0.381256     -0.976145      0.693152     0.448959      0.891753   \n",
       "4     1.0     1.309996     -0.690089     -0.676259     1.589283     -0.693326   \n",
       "\n",
       "   lepton 2 phi  missing energy magnitude  missing energy phi   MET_rel  \\\n",
       "0     -0.874309                  0.567765           -0.175000  0.810061   \n",
       "1      1.672543                  3.475464           -1.219136  0.012955   \n",
       "2     -0.768661                  1.219918            0.504026  1.831248   \n",
       "3     -0.677328                  2.033060            1.533041  3.046260   \n",
       "4      0.622907                  1.087562           -0.381742  0.589204   \n",
       "\n",
       "   axial MET       M_R    M_TR_2         R       MT2       S_R  M_Delta_R  \\\n",
       "0  -0.252552  1.921887  0.889637  0.410772  1.145621  1.932632   0.994464   \n",
       "1   3.775174  1.045977  0.568051  0.481928  0.000000  0.448410   0.205356   \n",
       "2  -0.431385  0.526283  0.941514  1.587535  2.024308  0.603498   1.562374   \n",
       "3  -1.005285  0.569386  1.015211  1.582217  1.551914  0.761215   1.715464   \n",
       "4   1.365479  1.179295  0.968218  0.728563  0.000000  1.083158   0.043429   \n",
       "\n",
       "   dPhi_r_b  cos(theta_r1)  \n",
       "0  1.367815       0.040714  \n",
       "1  1.321893       0.377584  \n",
       "2  1.135454       0.180910  \n",
       "3  1.492257       0.090719  \n",
       "4  1.154854       0.094859  "
      ]
     },
     "execution_count": 4,
     "metadata": {},
     "output_type": "execute_result"
    }
   ],
   "source": [
    "columns=[\"signal\", \"lepton 1 pT\", \"lepton 1 eta\", \"lepton 1 phi\", \"lepton 2 pT\", \"lepton 2 eta\", \n",
    "         \"lepton 2 phi\", \"missing energy magnitude\", \"missing energy phi\", \"MET_rel\", \n",
    "         \"axial MET\", \"M_R\", \"M_TR_2\", \"R\", \"MT2\", \"S_R\", \"M_Delta_R\", \"dPhi_r_b\", \"cos(theta_r1)\"]\n",
    "\n",
    "df.columns = columns\n",
    "df.head(5)"
   ]
  },
  {
   "cell_type": "markdown",
   "id": "34dbfefb",
   "metadata": {},
   "source": [
    "The first column is the class label (1 for signal, 0 for background), followed by the 18 features (8 low-level features then 10 high-level features):: lepton 1 pT, lepton 1 eta, lepton 1 phi, lepton 2 pT, lepton 2 eta, lepton 2 phi, missing energy magnitude, missing energy phi, MET_rel, axial MET, M_R, M_TR_2, R, MT2, S_R, M_Delta_R, dPhi_r_b, cos(theta_r1). For detailed information about each feature see the original paper."
   ]
  },
  {
   "cell_type": "markdown",
   "id": "141916b3",
   "metadata": {},
   "source": [
    "Baldi, P., P. Sadowski, and D. Whiteson. “Searching for Exotic Particles in High-energy Physics with Deep Learning.” Nature Communications 5 (July 2, 2014)"
   ]
  },
  {
   "cell_type": "markdown",
   "id": "bfc989e1",
   "metadata": {},
   "source": [
    "### 3.3 Setting Predictors (X) and response (y) "
   ]
  },
  {
   "cell_type": "code",
   "execution_count": 5,
   "id": "49bbdb5a",
   "metadata": {},
   "outputs": [],
   "source": [
    "X = df.iloc[:,1:]\n",
    "y = df.iloc[:,0]"
   ]
  },
  {
   "cell_type": "markdown",
   "id": "ca32cfc4",
   "metadata": {},
   "source": [
    "# 4. ML analysis"
   ]
  },
  {
   "cell_type": "markdown",
   "id": "a8318435",
   "metadata": {},
   "source": [
    "### 4.1 Spliting the data into training and test set"
   ]
  },
  {
   "cell_type": "markdown",
   "id": "eed76a43",
   "metadata": {},
   "source": [
    "In the original papaer, the last 10% data is used as the test set. However, I decided to select 20% of data randomly as the test set because it speeds up the training of the model and the result is not expected to vary a lot. Also, the paper chose the last 10% observation instead of using a random process. There is no problem as the simulation is purely Monte Carlo. In this project, I intended to keep things as simple as it could in order to work efficiently. The change in training result due to this setting is guaranteed to be neglible because of the large number of observations. "
   ]
  },
  {
   "cell_type": "code",
   "execution_count": 6,
   "id": "87964d60",
   "metadata": {},
   "outputs": [
    {
     "data": {
      "text/plain": [
       "(4000000, 18)"
      ]
     },
     "execution_count": 6,
     "metadata": {},
     "output_type": "execute_result"
    }
   ],
   "source": [
    "from sklearn.model_selection import train_test_split\n",
    "X_train, X_test, y_train, y_test = train_test_split(X, y, test_size=0.2, random_state=0)\n",
    "X_train.shape"
   ]
  },
  {
   "cell_type": "markdown",
   "id": "3dea5b3e",
   "metadata": {},
   "source": [
    "### 4.2 First Attempts using parametric methods"
   ]
  },
  {
   "cell_type": "markdown",
   "id": "934d7515",
   "metadata": {},
   "source": [
    "In the first attempt, I try using parametric methods to train the model.\n",
    "1. Logistic regression\n",
    "2. Linear Discriminant analysis\n",
    "3. Quadratic Discriminant analysis\n",
    "\n",
    "Before going into the analysis, first import the essential packages to quantify the performance."
   ]
  },
  {
   "cell_type": "code",
   "execution_count": 7,
   "id": "61715395",
   "metadata": {},
   "outputs": [],
   "source": [
    "from sklearn.metrics import confusion_matrix\n",
    "from sklearn.metrics import accuracy_score"
   ]
  },
  {
   "cell_type": "markdown",
   "id": "8570e4c2",
   "metadata": {},
   "source": [
    "### 4.2.1 Logistic regression"
   ]
  },
  {
   "cell_type": "code",
   "execution_count": 8,
   "id": "952da356",
   "metadata": {},
   "outputs": [
    {
     "name": "stdout",
     "output_type": "stream",
     "text": [
      "training time = 40.60082697868347\n",
      "[[478077  63692]\n",
      " [148000 310231]]\n",
      "test error rate is 0.211692\n"
     ]
    }
   ],
   "source": [
    "from sklearn.linear_model import LogisticRegression\n",
    "start_time = time.time()\n",
    "estimator = LogisticRegression(random_state=0, max_iter=500).fit(X_train,y_train)\n",
    "print(\"training time =\", time.time()-start_time)\n",
    "y_pred = estimator.predict(X_test)\n",
    "\n",
    "error=1-accuracy_score(y_pred, y_test)\n",
    "table = confusion_matrix(y_test, y_pred)\n",
    "print(table)\n",
    "print(\"test error rate is\", error)\n"
   ]
  },
  {
   "cell_type": "markdown",
   "id": "3f17871f",
   "metadata": {},
   "source": [
    "### 4.2.2 Linear Discriminant Analysis"
   ]
  },
  {
   "cell_type": "code",
   "execution_count": 9,
   "id": "9b70cf08",
   "metadata": {},
   "outputs": [
    {
     "name": "stdout",
     "output_type": "stream",
     "text": [
      "training time = 17.5196692943573\n",
      "[[493061  48708]\n",
      " [193946 264285]]\n",
      "test error rate is 0.24265400000000004\n"
     ]
    }
   ],
   "source": [
    "from sklearn.discriminant_analysis import LinearDiscriminantAnalysis\n",
    "\n",
    "start_time = time.time()\n",
    "estimator = LinearDiscriminantAnalysis().fit(X_train, y_train)\n",
    "print(\"training time =\", time.time()-start_time)\n",
    "y_pred = estimator.predict(X_test)\n",
    "\n",
    "error=1-accuracy_score(y_pred, y_test)\n",
    "table = confusion_matrix(y_test, y_pred)\n",
    "print(table)\n",
    "print(\"test error rate is\", error)\n"
   ]
  },
  {
   "cell_type": "markdown",
   "id": "e82849e3",
   "metadata": {},
   "source": [
    "### 4.2.3 Quadratic Discriminant Analysis"
   ]
  },
  {
   "cell_type": "code",
   "execution_count": 10,
   "id": "ef39a0e0",
   "metadata": {},
   "outputs": [
    {
     "name": "stdout",
     "output_type": "stream",
     "text": [
      "training time = 13.844622611999512\n",
      "[[503281  38488]\n",
      " [206234 251997]]\n",
      "test error rate is 0.244722\n"
     ]
    }
   ],
   "source": [
    "from sklearn.discriminant_analysis import QuadraticDiscriminantAnalysis\n",
    "start_time = time.time()\n",
    "estimator = QuadraticDiscriminantAnalysis().fit(X_train, y_train)\n",
    "print(\"training time =\", time.time()-start_time)\n",
    "y_pred = estimator.predict(X_test)\n",
    "\n",
    "error=1-accuracy_score(y_pred, y_test)\n",
    "table = confusion_matrix(y_test, y_pred)\n",
    "print(table)\n",
    "print(\"test error rate is\", error)"
   ]
  },
  {
   "cell_type": "markdown",
   "id": "7a235cfe",
   "metadata": {},
   "source": [
    "As a trial analysis, I do not intend to use cross validation to select best parameters in each methods. \n",
    "1. For logistic regression, the maximum iteration is already set to 500 to make sure the result converges. \n",
    "2. Parametric methods does not make sense to the current study because there does not exist a physics equation to link the \"missing energy\" to the type of process. Hence, one should not trust the obtained parameters in the model even if the test error is low.\n",
    "3. The analysis here actually just serves the purpose of debugging..."
   ]
  },
  {
   "cell_type": "markdown",
   "id": "e12f914f",
   "metadata": {},
   "source": [
    "Nevertheless, the result is summarized as follows:"
   ]
  },
  {
   "cell_type": "markdown",
   "id": "72805ff1",
   "metadata": {},
   "source": [
    "<table>\n",
    "    <tr>\n",
    "    <th></th>\n",
    "    <th>test error rate</th>\n",
    "    <th>training time (s)</th>\n",
    "  </tr>\n",
    "  <tr>\n",
    "    <th>Log. Reg.</th>\n",
    "    <th>0.212</th>\n",
    "    <th>43.4</th>\n",
    "  </tr>\n",
    "  <tr>\n",
    "    <th>LDA</th>\n",
    "    <th>0.243</th>\n",
    "    <th>19.8</th>\n",
    "  </tr>\n",
    "  <tr>\n",
    "    <th>QDA</th>\n",
    "    <th>0.245</th>\n",
    "    <th>11.0</th>\n",
    "  </tr>\n",
    "</table>"
   ]
  },
  {
   "cell_type": "markdown",
   "id": "d77639d1",
   "metadata": {},
   "source": [
    "### 4.3 Tree-based methods"
   ]
  },
  {
   "cell_type": "markdown",
   "id": "ca607d69",
   "metadata": {},
   "source": [
    "In this subsection, the tree-based methods including random forest, bagging and boosting are used to train the model. "
   ]
  },
  {
   "cell_type": "markdown",
   "id": "611a304e",
   "metadata": {},
   "source": [
    "### 4.3.1 Random Forest"
   ]
  },
  {
   "cell_type": "code",
   "execution_count": null,
   "id": "7356cbba",
   "metadata": {},
   "outputs": [],
   "source": [
    "from sklearn.ensemble import RandomForestClassifier\n",
    "\n",
    "start_time = time.time()\n",
    "estimator = RandomForestClassifier().fit(X_train, y_train)\n",
    "print(\"--- %s seconds ---\" % (time.time() - start_time))\n",
    "y_pred = estimator.predict(X_test)\n",
    "\n",
    "error=1-accuracy_score(y_pred, y_test)\n",
    "table = confusion_matrix(y_test, y_pred)\n",
    "print(table)\n",
    "print(\"test error rate is\", error)"
   ]
  },
  {
   "cell_type": "markdown",
   "id": "e6051b4a",
   "metadata": {},
   "source": [
    "### 4.3.2 Bagging"
   ]
  },
  {
   "cell_type": "code",
   "execution_count": 12,
   "id": "e11aca39",
   "metadata": {},
   "outputs": [
    {
     "name": "stdout",
     "output_type": "stream",
     "text": [
      "--- 2558.03883767128 seconds ---\n",
      "[[471181  70588]\n",
      " [146202 312029]]\n",
      "test error rate is 0.21679000000000004\n"
     ]
    }
   ],
   "source": [
    "from sklearn.ensemble import BaggingClassifier\n",
    "from sklearn.tree import DecisionTreeClassifier\n",
    "\n",
    "start_time = time.time()\n",
    "estimator = BaggingClassifier(base_estimator=DecisionTreeClassifier(),\n",
    "                        n_estimators=10, random_state=0).fit(X_train, y_train)\n",
    "print(\"--- %s seconds ---\" % (time.time() - start_time))\n",
    "\n",
    "y_pred = estimator.predict(X_test)\n",
    "error=1-accuracy_score(y_pred, y_test)\n",
    "table = confusion_matrix(y_test, y_pred)\n",
    "print(table)\n",
    "print(\"test error rate is\", error)"
   ]
  },
  {
   "cell_type": "markdown",
   "id": "a079e0fc",
   "metadata": {},
   "source": [
    "### 4.3.3 Gradient Boosting Classifier"
   ]
  },
  {
   "cell_type": "code",
   "execution_count": 13,
   "id": "c077f40f",
   "metadata": {},
   "outputs": [
    {
     "name": "stdout",
     "output_type": "stream",
     "text": [
      "--- 4244.524531841278 seconds ---\n",
      "[[471685  70084]\n",
      " [131625 326606]]\n",
      "test error rate is 0.20170900000000003\n"
     ]
    }
   ],
   "source": [
    "from sklearn.ensemble import GradientBoostingClassifier\n",
    "start_time = time.time()\n",
    "estimator = GradientBoostingClassifier(random_state=0).fit(X_train, y_train)\n",
    "print(\"--- %s seconds ---\" % (time.time() - start_time))\n",
    "y_pred = estimator.predict(X_test)\n",
    "error=1-accuracy_score(y_pred, y_test)\n",
    "table = confusion_matrix(y_test, y_pred)\n",
    "print(table)\n",
    "print(\"test error rate is\", error)"
   ]
  },
  {
   "cell_type": "markdown",
   "id": "382825eb",
   "metadata": {},
   "source": [
    "### 4.3.3 Adaptive Boosting Classifier"
   ]
  },
  {
   "cell_type": "code",
   "execution_count": 14,
   "id": "1affbeb8",
   "metadata": {},
   "outputs": [
    {
     "name": "stdout",
     "output_type": "stream",
     "text": [
      "--- 736.2605783939362 seconds ---\n",
      "[[465417  76352]\n",
      " [133349 324882]]\n",
      "test error rate is 0.20970100000000003\n"
     ]
    }
   ],
   "source": [
    "from sklearn.ensemble import AdaBoostClassifier\n",
    "start_time = time.time()\n",
    "estimator = AdaBoostClassifier(random_state=0).fit(X_train, y_train)\n",
    "print(\"--- %s seconds ---\" % (time.time() - start_time))\n",
    "y_pred = estimator.predict(X_test)\n",
    "error=1-accuracy_score(y_pred, y_test)\n",
    "table = confusion_matrix(y_test, y_pred)\n",
    "print(table)\n",
    "print(\"test error rate is\", error)"
   ]
  },
  {
   "cell_type": "markdown",
   "id": "9148472e",
   "metadata": {},
   "source": [
    "The results are summarized here\n",
    "<table>\n",
    "    <tr>\n",
    "    <th></th>\n",
    "    <th>test error rate</th>\n",
    "    <th>training time (s)</th>\n",
    "  </tr>\n",
    "  <tr>\n",
    "    <th>Random Forest</th>\n",
    "    <th>0.199</th>\n",
    "    <th>5097.7</th>\n",
    "  </tr>\n",
    "  <tr>\n",
    "    <th>Bagging</th>\n",
    "    <th>0.217</th>\n",
    "    <th>2558.0</th>\n",
    "  </tr>\n",
    "    <tr>\n",
    "    <th>Gradient Boost</th>\n",
    "    <th>0.202</th>\n",
    "    <th>4244.5</th>\n",
    "  </tr>\n",
    "  <tr>\n",
    "    <th>Ada. Boost</th>\n",
    "    <th>0.210</th>\n",
    "    <th>736.3</th>\n",
    "  </tr>\n",
    "    \n",
    "    \n",
    "</table>"
   ]
  },
  {
   "cell_type": "markdown",
   "id": "1cc1a8b3",
   "metadata": {},
   "source": [
    "It is clear that the tree-based methods has a lower test error rate($\\sim 0.2$) compared to the parametric methods ($>0.2$). However, I still have not applied CV to search for the best set of parameters. It is because the tree-based methods takes a long time to train the model, especially when we have a huge data set (4 millions instances with 18 predictor) in our case. Therefore, I will attempt to use the tree-based methods implemented in well-known library XGBoost and LightGBM which are optimized to give the most efficient training. Cross Validation will be applied in these two methods to obtain the best result in this study."
   ]
  },
  {
   "cell_type": "markdown",
   "id": "9740b18a",
   "metadata": {},
   "source": [
    "# 5. XGBoost\n",
    "\n",
    "In view of the long running time in tree-based method, the most efficient way to move on is to use a well-developed library called Extreme Gradient Boosting (XGBoost). Within this framework, the algorithms are expected to be written in a way such that the performance is optimized. In this section, I tested the run time and performance of XGBoost."
   ]
  },
  {
   "cell_type": "code",
   "execution_count": 11,
   "id": "bfb005cc",
   "metadata": {},
   "outputs": [
    {
     "data": {
      "text/plain": [
       "{'objective': 'binary:logistic',\n",
       " 'use_label_encoder': True,\n",
       " 'base_score': None,\n",
       " 'booster': None,\n",
       " 'colsample_bylevel': None,\n",
       " 'colsample_bynode': None,\n",
       " 'colsample_bytree': None,\n",
       " 'enable_categorical': False,\n",
       " 'gamma': None,\n",
       " 'gpu_id': None,\n",
       " 'importance_type': None,\n",
       " 'interaction_constraints': None,\n",
       " 'learning_rate': 0.1,\n",
       " 'max_delta_step': None,\n",
       " 'max_depth': 5,\n",
       " 'min_child_weight': None,\n",
       " 'missing': nan,\n",
       " 'monotone_constraints': None,\n",
       " 'n_estimators': 100,\n",
       " 'n_jobs': None,\n",
       " 'num_parallel_tree': None,\n",
       " 'predictor': None,\n",
       " 'random_state': 0,\n",
       " 'reg_alpha': None,\n",
       " 'reg_lambda': None,\n",
       " 'scale_pos_weight': None,\n",
       " 'subsample': None,\n",
       " 'tree_method': None,\n",
       " 'validate_parameters': None,\n",
       " 'verbosity': 3,\n",
       " 'eval_metric': 'auc'}"
      ]
     },
     "execution_count": 11,
     "metadata": {},
     "output_type": "execute_result"
    }
   ],
   "source": [
    "from xgboost import XGBClassifier\n",
    "\n",
    "estimator = XGBClassifier(n_estimators=100, random_state=0, eval_metric = \"auc\", \n",
    "                          verbosity=3, learning_rate=0.1, max_depth=5\n",
    "                         )\n",
    "\n",
    "estimator.get_params()"
   ]
  },
  {
   "cell_type": "code",
   "execution_count": 12,
   "id": "897b0386",
   "metadata": {},
   "outputs": [
    {
     "name": "stderr",
     "output_type": "stream",
     "text": [
      "/home/kin/Desktop/Learning/Data_Mining_Course_Project/jupy_env/lib/python3.8/site-packages/xgboost/sklearn.py:1224: UserWarning: The use of label encoder in XGBClassifier is deprecated and will be removed in a future release. To remove this warning, do the following: 1) Pass option use_label_encoder=False when constructing XGBClassifier object; and 2) Encode your labels (y) as integers starting with 0, i.e. 0, 1, 2, ..., [num_class - 1].\n",
      "  warnings.warn(label_encoder_deprecation_msg, UserWarning)\n"
     ]
    },
    {
     "name": "stdout",
     "output_type": "stream",
     "text": [
      "[12:06:40] DEBUG: ../src/gbm/gbtree.cc:155: Using tree method: 2\n",
      "[12:06:49] INFO: ../src/tree/updater_prune.cc:101: tree pruning end, 62 extra nodes, 0 pruned nodes, max_depth=5\n",
      "[12:06:57] INFO: ../src/tree/updater_prune.cc:101: tree pruning end, 62 extra nodes, 0 pruned nodes, max_depth=5\n",
      "[12:07:05] INFO: ../src/tree/updater_prune.cc:101: tree pruning end, 62 extra nodes, 0 pruned nodes, max_depth=5\n",
      "[12:07:14] INFO: ../src/tree/updater_prune.cc:101: tree pruning end, 62 extra nodes, 0 pruned nodes, max_depth=5\n",
      "[12:07:25] INFO: ../src/tree/updater_prune.cc:101: tree pruning end, 62 extra nodes, 0 pruned nodes, max_depth=5\n",
      "[12:07:35] INFO: ../src/tree/updater_prune.cc:101: tree pruning end, 62 extra nodes, 0 pruned nodes, max_depth=5\n",
      "[12:07:47] INFO: ../src/tree/updater_prune.cc:101: tree pruning end, 62 extra nodes, 0 pruned nodes, max_depth=5\n",
      "[12:08:00] INFO: ../src/tree/updater_prune.cc:101: tree pruning end, 62 extra nodes, 0 pruned nodes, max_depth=5\n",
      "[12:08:13] INFO: ../src/tree/updater_prune.cc:101: tree pruning end, 62 extra nodes, 0 pruned nodes, max_depth=5\n",
      "[12:08:27] INFO: ../src/tree/updater_prune.cc:101: tree pruning end, 62 extra nodes, 0 pruned nodes, max_depth=5\n",
      "[12:08:41] INFO: ../src/tree/updater_prune.cc:101: tree pruning end, 62 extra nodes, 0 pruned nodes, max_depth=5\n",
      "[12:08:56] INFO: ../src/tree/updater_prune.cc:101: tree pruning end, 62 extra nodes, 0 pruned nodes, max_depth=5\n",
      "[12:09:08] INFO: ../src/tree/updater_prune.cc:101: tree pruning end, 62 extra nodes, 0 pruned nodes, max_depth=5\n",
      "[12:09:18] INFO: ../src/tree/updater_prune.cc:101: tree pruning end, 62 extra nodes, 0 pruned nodes, max_depth=5\n",
      "[12:09:28] INFO: ../src/tree/updater_prune.cc:101: tree pruning end, 62 extra nodes, 0 pruned nodes, max_depth=5\n",
      "[12:09:38] INFO: ../src/tree/updater_prune.cc:101: tree pruning end, 62 extra nodes, 0 pruned nodes, max_depth=5\n",
      "[12:09:49] INFO: ../src/tree/updater_prune.cc:101: tree pruning end, 62 extra nodes, 0 pruned nodes, max_depth=5\n",
      "[12:10:02] INFO: ../src/tree/updater_prune.cc:101: tree pruning end, 62 extra nodes, 0 pruned nodes, max_depth=5\n",
      "[12:10:14] INFO: ../src/tree/updater_prune.cc:101: tree pruning end, 62 extra nodes, 0 pruned nodes, max_depth=5\n",
      "[12:10:28] INFO: ../src/tree/updater_prune.cc:101: tree pruning end, 62 extra nodes, 0 pruned nodes, max_depth=5\n",
      "[12:10:41] INFO: ../src/tree/updater_prune.cc:101: tree pruning end, 62 extra nodes, 0 pruned nodes, max_depth=5\n",
      "[12:10:54] INFO: ../src/tree/updater_prune.cc:101: tree pruning end, 62 extra nodes, 0 pruned nodes, max_depth=5\n",
      "[12:11:06] INFO: ../src/tree/updater_prune.cc:101: tree pruning end, 62 extra nodes, 0 pruned nodes, max_depth=5\n",
      "[12:11:18] INFO: ../src/tree/updater_prune.cc:101: tree pruning end, 62 extra nodes, 0 pruned nodes, max_depth=5\n",
      "[12:11:29] INFO: ../src/tree/updater_prune.cc:101: tree pruning end, 62 extra nodes, 0 pruned nodes, max_depth=5\n",
      "[12:11:40] INFO: ../src/tree/updater_prune.cc:101: tree pruning end, 62 extra nodes, 0 pruned nodes, max_depth=5\n",
      "[12:11:51] INFO: ../src/tree/updater_prune.cc:101: tree pruning end, 62 extra nodes, 0 pruned nodes, max_depth=5\n",
      "[12:12:01] INFO: ../src/tree/updater_prune.cc:101: tree pruning end, 62 extra nodes, 0 pruned nodes, max_depth=5\n",
      "[12:12:12] INFO: ../src/tree/updater_prune.cc:101: tree pruning end, 62 extra nodes, 0 pruned nodes, max_depth=5\n",
      "[12:12:24] INFO: ../src/tree/updater_prune.cc:101: tree pruning end, 62 extra nodes, 0 pruned nodes, max_depth=5\n",
      "[12:12:36] INFO: ../src/tree/updater_prune.cc:101: tree pruning end, 62 extra nodes, 0 pruned nodes, max_depth=5\n",
      "[12:12:48] INFO: ../src/tree/updater_prune.cc:101: tree pruning end, 62 extra nodes, 0 pruned nodes, max_depth=5\n",
      "[12:12:59] INFO: ../src/tree/updater_prune.cc:101: tree pruning end, 62 extra nodes, 0 pruned nodes, max_depth=5\n",
      "[12:13:12] INFO: ../src/tree/updater_prune.cc:101: tree pruning end, 62 extra nodes, 0 pruned nodes, max_depth=5\n",
      "[12:13:23] INFO: ../src/tree/updater_prune.cc:101: tree pruning end, 62 extra nodes, 0 pruned nodes, max_depth=5\n",
      "[12:13:34] INFO: ../src/tree/updater_prune.cc:101: tree pruning end, 62 extra nodes, 0 pruned nodes, max_depth=5\n",
      "[12:13:46] INFO: ../src/tree/updater_prune.cc:101: tree pruning end, 62 extra nodes, 0 pruned nodes, max_depth=5\n",
      "[12:13:57] INFO: ../src/tree/updater_prune.cc:101: tree pruning end, 62 extra nodes, 0 pruned nodes, max_depth=5\n",
      "[12:14:09] INFO: ../src/tree/updater_prune.cc:101: tree pruning end, 62 extra nodes, 0 pruned nodes, max_depth=5\n",
      "[12:14:21] INFO: ../src/tree/updater_prune.cc:101: tree pruning end, 62 extra nodes, 0 pruned nodes, max_depth=5\n",
      "[12:14:34] INFO: ../src/tree/updater_prune.cc:101: tree pruning end, 62 extra nodes, 0 pruned nodes, max_depth=5\n",
      "[12:14:46] INFO: ../src/tree/updater_prune.cc:101: tree pruning end, 62 extra nodes, 0 pruned nodes, max_depth=5\n",
      "[12:14:58] INFO: ../src/tree/updater_prune.cc:101: tree pruning end, 62 extra nodes, 0 pruned nodes, max_depth=5\n",
      "[12:15:10] INFO: ../src/tree/updater_prune.cc:101: tree pruning end, 62 extra nodes, 0 pruned nodes, max_depth=5\n",
      "[12:15:21] INFO: ../src/tree/updater_prune.cc:101: tree pruning end, 62 extra nodes, 0 pruned nodes, max_depth=5\n",
      "[12:15:33] INFO: ../src/tree/updater_prune.cc:101: tree pruning end, 62 extra nodes, 0 pruned nodes, max_depth=5\n",
      "[12:15:44] INFO: ../src/tree/updater_prune.cc:101: tree pruning end, 62 extra nodes, 0 pruned nodes, max_depth=5\n",
      "[12:15:55] INFO: ../src/tree/updater_prune.cc:101: tree pruning end, 62 extra nodes, 0 pruned nodes, max_depth=5\n",
      "[12:16:07] INFO: ../src/tree/updater_prune.cc:101: tree pruning end, 62 extra nodes, 0 pruned nodes, max_depth=5\n",
      "[12:16:17] INFO: ../src/tree/updater_prune.cc:101: tree pruning end, 62 extra nodes, 0 pruned nodes, max_depth=5\n",
      "[12:16:28] INFO: ../src/tree/updater_prune.cc:101: tree pruning end, 62 extra nodes, 0 pruned nodes, max_depth=5\n",
      "[12:16:39] INFO: ../src/tree/updater_prune.cc:101: tree pruning end, 62 extra nodes, 0 pruned nodes, max_depth=5\n",
      "[12:16:50] INFO: ../src/tree/updater_prune.cc:101: tree pruning end, 62 extra nodes, 0 pruned nodes, max_depth=5\n",
      "[12:17:01] INFO: ../src/tree/updater_prune.cc:101: tree pruning end, 62 extra nodes, 0 pruned nodes, max_depth=5\n",
      "[12:17:12] INFO: ../src/tree/updater_prune.cc:101: tree pruning end, 62 extra nodes, 0 pruned nodes, max_depth=5\n",
      "[12:17:25] INFO: ../src/tree/updater_prune.cc:101: tree pruning end, 62 extra nodes, 0 pruned nodes, max_depth=5\n",
      "[12:17:37] INFO: ../src/tree/updater_prune.cc:101: tree pruning end, 62 extra nodes, 0 pruned nodes, max_depth=5\n",
      "[12:17:50] INFO: ../src/tree/updater_prune.cc:101: tree pruning end, 62 extra nodes, 0 pruned nodes, max_depth=5\n",
      "[12:18:02] INFO: ../src/tree/updater_prune.cc:101: tree pruning end, 62 extra nodes, 0 pruned nodes, max_depth=5\n",
      "[12:18:13] INFO: ../src/tree/updater_prune.cc:101: tree pruning end, 62 extra nodes, 0 pruned nodes, max_depth=5\n",
      "[12:18:25] INFO: ../src/tree/updater_prune.cc:101: tree pruning end, 62 extra nodes, 0 pruned nodes, max_depth=5\n",
      "[12:18:36] INFO: ../src/tree/updater_prune.cc:101: tree pruning end, 62 extra nodes, 0 pruned nodes, max_depth=5\n",
      "[12:18:46] INFO: ../src/tree/updater_prune.cc:101: tree pruning end, 62 extra nodes, 0 pruned nodes, max_depth=5\n",
      "[12:18:57] INFO: ../src/tree/updater_prune.cc:101: tree pruning end, 62 extra nodes, 0 pruned nodes, max_depth=5\n",
      "[12:19:09] INFO: ../src/tree/updater_prune.cc:101: tree pruning end, 62 extra nodes, 0 pruned nodes, max_depth=5\n",
      "[12:19:21] INFO: ../src/tree/updater_prune.cc:101: tree pruning end, 62 extra nodes, 0 pruned nodes, max_depth=5\n",
      "[12:19:33] INFO: ../src/tree/updater_prune.cc:101: tree pruning end, 62 extra nodes, 0 pruned nodes, max_depth=5\n",
      "[12:19:46] INFO: ../src/tree/updater_prune.cc:101: tree pruning end, 62 extra nodes, 0 pruned nodes, max_depth=5\n",
      "[12:19:58] INFO: ../src/tree/updater_prune.cc:101: tree pruning end, 62 extra nodes, 0 pruned nodes, max_depth=5\n",
      "[12:20:12] INFO: ../src/tree/updater_prune.cc:101: tree pruning end, 62 extra nodes, 0 pruned nodes, max_depth=5\n",
      "[12:20:22] INFO: ../src/tree/updater_prune.cc:101: tree pruning end, 62 extra nodes, 0 pruned nodes, max_depth=5\n",
      "[12:20:34] INFO: ../src/tree/updater_prune.cc:101: tree pruning end, 62 extra nodes, 0 pruned nodes, max_depth=5\n"
     ]
    },
    {
     "name": "stdout",
     "output_type": "stream",
     "text": [
      "[12:20:46] INFO: ../src/tree/updater_prune.cc:101: tree pruning end, 62 extra nodes, 0 pruned nodes, max_depth=5\n",
      "[12:20:56] INFO: ../src/tree/updater_prune.cc:101: tree pruning end, 62 extra nodes, 0 pruned nodes, max_depth=5\n",
      "[12:21:08] INFO: ../src/tree/updater_prune.cc:101: tree pruning end, 62 extra nodes, 0 pruned nodes, max_depth=5\n",
      "[12:21:18] INFO: ../src/tree/updater_prune.cc:101: tree pruning end, 62 extra nodes, 0 pruned nodes, max_depth=5\n",
      "[12:21:30] INFO: ../src/tree/updater_prune.cc:101: tree pruning end, 62 extra nodes, 0 pruned nodes, max_depth=5\n",
      "[12:21:41] INFO: ../src/tree/updater_prune.cc:101: tree pruning end, 62 extra nodes, 0 pruned nodes, max_depth=5\n",
      "[12:21:51] INFO: ../src/tree/updater_prune.cc:101: tree pruning end, 62 extra nodes, 0 pruned nodes, max_depth=5\n",
      "[12:22:02] INFO: ../src/tree/updater_prune.cc:101: tree pruning end, 62 extra nodes, 0 pruned nodes, max_depth=5\n",
      "[12:22:13] INFO: ../src/tree/updater_prune.cc:101: tree pruning end, 62 extra nodes, 0 pruned nodes, max_depth=5\n",
      "[12:22:24] INFO: ../src/tree/updater_prune.cc:101: tree pruning end, 62 extra nodes, 0 pruned nodes, max_depth=5\n",
      "[12:22:35] INFO: ../src/tree/updater_prune.cc:101: tree pruning end, 62 extra nodes, 0 pruned nodes, max_depth=5\n",
      "[12:22:46] INFO: ../src/tree/updater_prune.cc:101: tree pruning end, 62 extra nodes, 0 pruned nodes, max_depth=5\n",
      "[12:22:57] INFO: ../src/tree/updater_prune.cc:101: tree pruning end, 62 extra nodes, 0 pruned nodes, max_depth=5\n",
      "[12:23:08] INFO: ../src/tree/updater_prune.cc:101: tree pruning end, 58 extra nodes, 0 pruned nodes, max_depth=5\n",
      "[12:23:21] INFO: ../src/tree/updater_prune.cc:101: tree pruning end, 62 extra nodes, 0 pruned nodes, max_depth=5\n",
      "[12:23:33] INFO: ../src/tree/updater_prune.cc:101: tree pruning end, 62 extra nodes, 0 pruned nodes, max_depth=5\n",
      "[12:23:49] INFO: ../src/tree/updater_prune.cc:101: tree pruning end, 62 extra nodes, 0 pruned nodes, max_depth=5\n",
      "[12:24:04] INFO: ../src/tree/updater_prune.cc:101: tree pruning end, 62 extra nodes, 0 pruned nodes, max_depth=5\n",
      "[12:24:20] INFO: ../src/tree/updater_prune.cc:101: tree pruning end, 56 extra nodes, 0 pruned nodes, max_depth=5\n",
      "[12:24:32] INFO: ../src/tree/updater_prune.cc:101: tree pruning end, 62 extra nodes, 0 pruned nodes, max_depth=5\n",
      "[12:24:47] INFO: ../src/tree/updater_prune.cc:101: tree pruning end, 62 extra nodes, 0 pruned nodes, max_depth=5\n",
      "[12:25:05] INFO: ../src/tree/updater_prune.cc:101: tree pruning end, 62 extra nodes, 0 pruned nodes, max_depth=5\n",
      "[12:25:19] INFO: ../src/tree/updater_prune.cc:101: tree pruning end, 62 extra nodes, 0 pruned nodes, max_depth=5\n",
      "[12:25:31] INFO: ../src/tree/updater_prune.cc:101: tree pruning end, 62 extra nodes, 0 pruned nodes, max_depth=5\n",
      "[12:25:43] INFO: ../src/tree/updater_prune.cc:101: tree pruning end, 62 extra nodes, 0 pruned nodes, max_depth=5\n",
      "[12:25:55] INFO: ../src/tree/updater_prune.cc:101: tree pruning end, 62 extra nodes, 0 pruned nodes, max_depth=5\n",
      "[12:26:06] INFO: ../src/tree/updater_prune.cc:101: tree pruning end, 60 extra nodes, 0 pruned nodes, max_depth=5\n",
      "[12:26:18] INFO: ../src/tree/updater_prune.cc:101: tree pruning end, 62 extra nodes, 0 pruned nodes, max_depth=5\n",
      "[12:26:19] ======== Monitor (0): Learner ========\n",
      "[12:26:19] Configure: 0s, 1 calls @ 0us\n",
      "\n",
      "[12:26:19] EvalOneIter: 0.000328s, 100 calls @ 328us\n",
      "\n",
      "[12:26:19] GetGradient: 6.59734s, 100 calls @ 6597343us\n",
      "\n",
      "[12:26:19] PredictRaw: 19.1719s, 100 calls @ 19171912us\n",
      "\n",
      "[12:26:19] UpdateOneIter: 1168.7s, 100 calls @ 1168696548us\n",
      "\n",
      "[12:26:19] ======== Monitor (0): GBTree ========\n",
      "[12:26:19] BoostNewTrees: 1152.41s, 100 calls @ 1152405934us\n",
      "\n",
      "[12:26:19] CommitModel: 8.7e-05s, 100 calls @ 87us\n",
      "\n",
      "[12:26:19] ======== Monitor (0): TreePruner ========\n",
      "[12:26:19] PrunerUpdate: 0.281462s, 100 calls @ 281462us\n",
      "\n",
      "1180.4199419021606\n"
     ]
    }
   ],
   "source": [
    "start_time = time.time()\n",
    "estimator = estimator.fit(X_train,y_train)\n",
    "time =  time.time() - start_time\n",
    "print(time)"
   ]
  },
  {
   "cell_type": "code",
   "execution_count": 13,
   "id": "fb2ae78c",
   "metadata": {},
   "outputs": [
    {
     "name": "stdout",
     "output_type": "stream",
     "text": [
      "[[473322  68447]\n",
      " [130197 328034]]\n"
     ]
    }
   ],
   "source": [
    "y_prob=estimator.predict_proba(X_test)\n",
    "y_pred=estimator.predict(X_test)\n",
    "\n",
    "table = confusion_matrix(y_test, y_pred)\n",
    "print(table)"
   ]
  },
  {
   "cell_type": "code",
   "execution_count": 14,
   "id": "b96e7d93",
   "metadata": {},
   "outputs": [
    {
     "name": "stdout",
     "output_type": "stream",
     "text": [
      "test error rate = 0.19864400000000004\n"
     ]
    }
   ],
   "source": [
    "accuracy = accuracy_score(y_pred, y_test)\n",
    "print(\"test error rate =\", 1-accuracy)"
   ]
  },
  {
   "cell_type": "code",
   "execution_count": 15,
   "id": "52336097",
   "metadata": {},
   "outputs": [
    {
     "name": "stdout",
     "output_type": "stream",
     "text": [
      "[2.7932504e-01 3.7541535e-02 2.8272354e-04 5.0255572e-03 3.6324278e-02\n",
      " 2.5176984e-04 3.9588556e-01 1.1534785e-04 2.2355940e-02 4.1229334e-02\n",
      " 1.0720894e-02 2.5027948e-02 1.2716850e-02 1.6841760e-02 8.5716378e-03\n",
      " 2.1008296e-02 4.1609481e-02 4.5166112e-02]\n",
      "['lepton 1 pT', 'lepton 1 eta', 'lepton 1 phi', 'lepton 2 pT', 'lepton 2 eta', 'lepton 2 phi', 'missing energy magnitude', 'missing energy phi', 'MET_rel', 'axial MET', 'M_R', 'M_TR_2', 'R', 'MT2', 'S_R', 'M_Delta_R', 'dPhi_r_b', 'cos(theta_r1)']\n"
     ]
    }
   ],
   "source": [
    "print(estimator.feature_importances_)\n",
    "print(estimator.get_booster().feature_names)"
   ]
  },
  {
   "cell_type": "code",
   "execution_count": 16,
   "id": "7a3aebc1",
   "metadata": {},
   "outputs": [
    {
     "data": {
      "image/png": "[encoded data removed]",
      "text/plain": [
       "<Figure size 432x288 with 1 Axes>"
      ]
     },
     "metadata": {
      "needs_background": "light"
     },
     "output_type": "display_data"
    }
   ],
   "source": [
    "indices = np.argsort(estimator.feature_importances_)\n",
    "plt.title('XGBoost Feature Importances')\n",
    "plt.barh(range(len(indices)), estimator.feature_importances_[indices], color='b', align='center')\n",
    "plt.yticks(range(len(indices)), [estimator.get_booster().feature_names[i] for i in indices])\n",
    "plt.xlabel('Relative Importance')\n",
    "plt.show()"
   ]
  },
  {
   "cell_type": "markdown",
   "id": "23f511a2",
   "metadata": {},
   "source": [
    "It is observed that the most important predictors are \n",
    "1. missing energy magniture, which makes sense as it is what we measure to see if there is \"invisible particle\"\n",
    "2. lepton 1 pT, which refers to the transverse component of momentum of the first lepton (a visible particle). I m suprised as the importance of lepton 2 pT is low. However, one must note that these 2 leptons are different in charge and thus has different physics. So it is possible that the positive charged lepton plays a more important role here."
   ]
  },
  {
   "cell_type": "markdown",
   "id": "e601b325",
   "metadata": {},
   "source": [
    "It is also seen that the angles at which the leptons are emitted are not important at all. This result can also be seen with the use of another boosting library lightGBM, which I will show later in the report."
   ]
  },
  {
   "cell_type": "markdown",
   "id": "7821277e",
   "metadata": {},
   "source": [
    "It takes 1180.4s for the XGBoost method run. As a result, it would take a huge amount of time to perfect the value of hyperparameters if cross validation is used. Therefore, I would choose LightGBM, which you will see the training time is much shorter, as the final approach in this study. "
   ]
  }
 ],
 "metadata": {
  "kernelspec": {
   "display_name": "Python 3 (ipykernel)",
   "language": "python",
   "name": "python3"
  },
  "language_info": {
   "codemirror_mode": {
    "name": "ipython",
    "version": 3
   },
   "file_extension": ".py",
   "mimetype": "text/x-python",
   "name": "python",
   "nbconvert_exporter": "python",
   "pygments_lexer": "ipython3",
   "version": "3.8.10"
  }
 },
 "nbformat": 4,
 "nbformat_minor": 5
}
