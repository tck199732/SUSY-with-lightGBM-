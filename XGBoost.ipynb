{
 "cells": [
  {
   "cell_type": "markdown",
   "id": "5f7e827f",
   "metadata": {},
   "source": [
    "# XGBoost"
   ]
  },
  {
   "cell_type": "markdown",
   "id": "71ae702d",
   "metadata": {},
   "source": [
    "## 1. Import packages, loading and spliting data"
   ]
  },
  {
   "cell_type": "code",
   "execution_count": 3,
   "id": "dcb32edc",
   "metadata": {},
   "outputs": [],
   "source": [
    "import sys\n",
    "sys.path.append(\"jupy_env/lib/python3.8/site-packages\")\n",
    "\n",
    "import time\n",
    "import numpy as np\n",
    "import pandas as pd\n",
    "from sklearn.model_selection import train_test_split\n",
    "from sklearn.model_selection import GridSearchCV\n",
    "from sklearn.metrics import accuracy_score\n",
    "from sklearn.metrics import roc_auc_score\n",
    "from lightgbm import LGBMClassifier\n",
    "from sklearn.metrics import confusion_matrix\n",
    "from sklearn.metrics import roc_curve\n",
    "\n",
    "\n",
    "import matplotlib.pyplot as plt\n",
    "%matplotlib inline\n",
    "\n",
    "from xgboost import XGBClassifier"
   ]
  },
  {
   "cell_type": "code",
   "execution_count": 4,
   "id": "2da64bf7",
   "metadata": {},
   "outputs": [],
   "source": [
    "df = pd.read_csv(\"./data/SUSY.csv\", header=None)"
   ]
  },
  {
   "cell_type": "code",
   "execution_count": 5,
   "id": "4f4d8ad5",
   "metadata": {},
   "outputs": [
    {
     "data": {
      "text/html": [
       "<div>\n",
       "<style scoped>\n",
       "    .dataframe tbody tr th:only-of-type {\n",
       "        vertical-align: middle;\n",
       "    }\n",
       "\n",
       "    .dataframe tbody tr th {\n",
       "        vertical-align: top;\n",
       "    }\n",
       "\n",
       "    .dataframe thead th {\n",
       "        text-align: right;\n",
       "    }\n",
       "</style>\n",
       "<table border=\"1\" class=\"dataframe\">\n",
       "  <thead>\n",
       "    <tr style=\"text-align: right;\">\n",
       "      <th></th>\n",
       "      <th>signal</th>\n",
       "      <th>lepton 1 pT</th>\n",
       "      <th>lepton 1 eta</th>\n",
       "      <th>lepton 1 phi</th>\n",
       "      <th>lepton 2 pT</th>\n",
       "      <th>lepton 2 eta</th>\n",
       "      <th>lepton 2 phi</th>\n",
       "      <th>missing energy magnitude</th>\n",
       "      <th>missing energy phi</th>\n",
       "      <th>MET_rel</th>\n",
       "      <th>axial MET</th>\n",
       "      <th>M_R</th>\n",
       "      <th>M_TR_2</th>\n",
       "      <th>R</th>\n",
       "      <th>MT2</th>\n",
       "      <th>S_R</th>\n",
       "      <th>M_Delta_R</th>\n",
       "      <th>dPhi_r_b</th>\n",
       "      <th>cos(theta_r1)</th>\n",
       "    </tr>\n",
       "  </thead>\n",
       "  <tbody>\n",
       "    <tr>\n",
       "      <th>0</th>\n",
       "      <td>0.0</td>\n",
       "      <td>0.972861</td>\n",
       "      <td>0.653855</td>\n",
       "      <td>1.176225</td>\n",
       "      <td>1.157156</td>\n",
       "      <td>-1.739873</td>\n",
       "      <td>-0.874309</td>\n",
       "      <td>0.567765</td>\n",
       "      <td>-0.175000</td>\n",
       "      <td>0.810061</td>\n",
       "      <td>-0.252552</td>\n",
       "      <td>1.921887</td>\n",
       "      <td>0.889637</td>\n",
       "      <td>0.410772</td>\n",
       "      <td>1.145621</td>\n",
       "      <td>1.932632</td>\n",
       "      <td>0.994464</td>\n",
       "      <td>1.367815</td>\n",
       "      <td>0.040714</td>\n",
       "    </tr>\n",
       "    <tr>\n",
       "      <th>1</th>\n",
       "      <td>1.0</td>\n",
       "      <td>1.667973</td>\n",
       "      <td>0.064191</td>\n",
       "      <td>-1.225171</td>\n",
       "      <td>0.506102</td>\n",
       "      <td>-0.338939</td>\n",
       "      <td>1.672543</td>\n",
       "      <td>3.475464</td>\n",
       "      <td>-1.219136</td>\n",
       "      <td>0.012955</td>\n",
       "      <td>3.775174</td>\n",
       "      <td>1.045977</td>\n",
       "      <td>0.568051</td>\n",
       "      <td>0.481928</td>\n",
       "      <td>0.000000</td>\n",
       "      <td>0.448410</td>\n",
       "      <td>0.205356</td>\n",
       "      <td>1.321893</td>\n",
       "      <td>0.377584</td>\n",
       "    </tr>\n",
       "    <tr>\n",
       "      <th>2</th>\n",
       "      <td>1.0</td>\n",
       "      <td>0.444840</td>\n",
       "      <td>-0.134298</td>\n",
       "      <td>-0.709972</td>\n",
       "      <td>0.451719</td>\n",
       "      <td>-1.613871</td>\n",
       "      <td>-0.768661</td>\n",
       "      <td>1.219918</td>\n",
       "      <td>0.504026</td>\n",
       "      <td>1.831248</td>\n",
       "      <td>-0.431385</td>\n",
       "      <td>0.526283</td>\n",
       "      <td>0.941514</td>\n",
       "      <td>1.587535</td>\n",
       "      <td>2.024308</td>\n",
       "      <td>0.603498</td>\n",
       "      <td>1.562374</td>\n",
       "      <td>1.135454</td>\n",
       "      <td>0.180910</td>\n",
       "    </tr>\n",
       "    <tr>\n",
       "      <th>3</th>\n",
       "      <td>1.0</td>\n",
       "      <td>0.381256</td>\n",
       "      <td>-0.976145</td>\n",
       "      <td>0.693152</td>\n",
       "      <td>0.448959</td>\n",
       "      <td>0.891753</td>\n",
       "      <td>-0.677328</td>\n",
       "      <td>2.033060</td>\n",
       "      <td>1.533041</td>\n",
       "      <td>3.046260</td>\n",
       "      <td>-1.005285</td>\n",
       "      <td>0.569386</td>\n",
       "      <td>1.015211</td>\n",
       "      <td>1.582217</td>\n",
       "      <td>1.551914</td>\n",
       "      <td>0.761215</td>\n",
       "      <td>1.715464</td>\n",
       "      <td>1.492257</td>\n",
       "      <td>0.090719</td>\n",
       "    </tr>\n",
       "    <tr>\n",
       "      <th>4</th>\n",
       "      <td>1.0</td>\n",
       "      <td>1.309996</td>\n",
       "      <td>-0.690089</td>\n",
       "      <td>-0.676259</td>\n",
       "      <td>1.589283</td>\n",
       "      <td>-0.693326</td>\n",
       "      <td>0.622907</td>\n",
       "      <td>1.087562</td>\n",
       "      <td>-0.381742</td>\n",
       "      <td>0.589204</td>\n",
       "      <td>1.365479</td>\n",
       "      <td>1.179295</td>\n",
       "      <td>0.968218</td>\n",
       "      <td>0.728563</td>\n",
       "      <td>0.000000</td>\n",
       "      <td>1.083158</td>\n",
       "      <td>0.043429</td>\n",
       "      <td>1.154854</td>\n",
       "      <td>0.094859</td>\n",
       "    </tr>\n",
       "  </tbody>\n",
       "</table>\n",
       "</div>"
      ],
      "text/plain": [
       "   signal  lepton 1 pT  lepton 1 eta  lepton 1 phi  lepton 2 pT  lepton 2 eta  \\\n",
       "0     0.0     0.972861      0.653855      1.176225     1.157156     -1.739873   \n",
       "1     1.0     1.667973      0.064191     -1.225171     0.506102     -0.338939   \n",
       "2     1.0     0.444840     -0.134298     -0.709972     0.451719     -1.613871   \n",
       "3     1.0     0.381256     -0.976145      0.693152     0.448959      0.891753   \n",
       "4     1.0     1.309996     -0.690089     -0.676259     1.589283     -0.693326   \n",
       "\n",
       "   lepton 2 phi  missing energy magnitude  missing energy phi   MET_rel  \\\n",
       "0     -0.874309                  0.567765           -0.175000  0.810061   \n",
       "1      1.672543                  3.475464           -1.219136  0.012955   \n",
       "2     -0.768661                  1.219918            0.504026  1.831248   \n",
       "3     -0.677328                  2.033060            1.533041  3.046260   \n",
       "4      0.622907                  1.087562           -0.381742  0.589204   \n",
       "\n",
       "   axial MET       M_R    M_TR_2         R       MT2       S_R  M_Delta_R  \\\n",
       "0  -0.252552  1.921887  0.889637  0.410772  1.145621  1.932632   0.994464   \n",
       "1   3.775174  1.045977  0.568051  0.481928  0.000000  0.448410   0.205356   \n",
       "2  -0.431385  0.526283  0.941514  1.587535  2.024308  0.603498   1.562374   \n",
       "3  -1.005285  0.569386  1.015211  1.582217  1.551914  0.761215   1.715464   \n",
       "4   1.365479  1.179295  0.968218  0.728563  0.000000  1.083158   0.043429   \n",
       "\n",
       "   dPhi_r_b  cos(theta_r1)  \n",
       "0  1.367815       0.040714  \n",
       "1  1.321893       0.377584  \n",
       "2  1.135454       0.180910  \n",
       "3  1.492257       0.090719  \n",
       "4  1.154854       0.094859  "
      ]
     },
     "execution_count": 5,
     "metadata": {},
     "output_type": "execute_result"
    }
   ],
   "source": [
    "columns=[\"signal\", \"lepton 1 pT\", \"lepton 1 eta\", \"lepton 1 phi\", \"lepton 2 pT\", \"lepton 2 eta\", \n",
    "         \"lepton 2 phi\", \"missing energy magnitude\", \"missing energy phi\", \"MET_rel\", \n",
    "         \"axial MET\", \"M_R\", \"M_TR_2\", \"R\", \"MT2\", \"S_R\", \"M_Delta_R\", \"dPhi_r_b\", \"cos(theta_r1)\"]\n",
    "\n",
    "df.columns = columns\n",
    "df.head(5)"
   ]
  },
  {
   "cell_type": "code",
   "execution_count": 6,
   "id": "2e2e0f8f",
   "metadata": {},
   "outputs": [],
   "source": [
    "X = df.iloc[:,1:]\n",
    "y = df.iloc[:,0]\n",
    "X_train, X_test, y_train, y_test = train_test_split(X, y, test_size=0.2, random_state=0)"
   ]
  },
  {
   "cell_type": "code",
   "execution_count": 7,
   "id": "7d85684b",
   "metadata": {},
   "outputs": [],
   "source": [
    "X_train_low = X_train.iloc[:,0:8]\n",
    "X_train_high = X_train.iloc[:,8:]\n",
    "X_test_low = X_test.iloc[:,0:8]\n",
    "X_test_high = X_test.iloc[:,8:]"
   ]
  },
  {
   "cell_type": "markdown",
   "id": "508767b6",
   "metadata": {},
   "source": [
    "# Initialize the XGBClassifier"
   ]
  },
  {
   "cell_type": "code",
   "execution_count": 8,
   "id": "0a4c6857",
   "metadata": {},
   "outputs": [
    {
     "data": {
      "text/plain": [
       "{'objective': 'binary:logistic',\n",
       " 'use_label_encoder': True,\n",
       " 'base_score': None,\n",
       " 'booster': None,\n",
       " 'colsample_bylevel': None,\n",
       " 'colsample_bynode': None,\n",
       " 'colsample_bytree': None,\n",
       " 'enable_categorical': False,\n",
       " 'gamma': None,\n",
       " 'gpu_id': None,\n",
       " 'importance_type': None,\n",
       " 'interaction_constraints': None,\n",
       " 'learning_rate': None,\n",
       " 'max_delta_step': None,\n",
       " 'max_depth': None,\n",
       " 'min_child_weight': None,\n",
       " 'missing': nan,\n",
       " 'monotone_constraints': None,\n",
       " 'n_estimators': 100,\n",
       " 'n_jobs': None,\n",
       " 'num_parallel_tree': None,\n",
       " 'predictor': None,\n",
       " 'random_state': None,\n",
       " 'reg_alpha': None,\n",
       " 'reg_lambda': None,\n",
       " 'scale_pos_weight': None,\n",
       " 'subsample': None,\n",
       " 'tree_method': None,\n",
       " 'validate_parameters': None,\n",
       " 'verbosity': None}"
      ]
     },
     "execution_count": 8,
     "metadata": {},
     "output_type": "execute_result"
    }
   ],
   "source": [
    "#n_estimators=100, max_depth=10, learning_rate=0.1,\n",
    " #                        verbosity=3, random_state=0, eval_metric = \"auc\"\n",
    "estimator = XGBClassifier()\n",
    "\n",
    "\n",
    "estimator.get_params()"
   ]
  },
  {
   "cell_type": "markdown",
   "id": "0a5732aa",
   "metadata": {},
   "source": [
    "# Use low-level features"
   ]
  },
  {
   "cell_type": "code",
   "execution_count": 7,
   "id": "f6646d24",
   "metadata": {},
   "outputs": [
    {
     "name": "stderr",
     "output_type": "stream",
     "text": [
      "/home/kin/Desktop/Learning/Data_Mining_Course_Project/jupy_env/lib/python3.8/site-packages/xgboost/sklearn.py:1224: UserWarning: The use of label encoder in XGBClassifier is deprecated and will be removed in a future release. To remove this warning, do the following: 1) Pass option use_label_encoder=False when constructing XGBClassifier object; and 2) Encode your labels (y) as integers starting with 0, i.e. 0, 1, 2, ..., [num_class - 1].\n",
      "  warnings.warn(label_encoder_deprecation_msg, UserWarning)\n"
     ]
    },
    {
     "name": "stdout",
     "output_type": "stream",
     "text": [
      "[14:15:20] DEBUG: ../src/gbm/gbtree.cc:155: Using tree method: 2\n",
      "[14:15:28] INFO: ../src/tree/updater_prune.cc:101: tree pruning end, 1950 extra nodes, 0 pruned nodes, max_depth=10\n",
      "[14:15:36] INFO: ../src/tree/updater_prune.cc:101: tree pruning end, 1972 extra nodes, 0 pruned nodes, max_depth=10\n",
      "[14:15:46] INFO: ../src/tree/updater_prune.cc:101: tree pruning end, 1984 extra nodes, 0 pruned nodes, max_depth=10\n",
      "[14:15:55] INFO: ../src/tree/updater_prune.cc:101: tree pruning end, 1952 extra nodes, 0 pruned nodes, max_depth=10\n",
      "[14:16:05] INFO: ../src/tree/updater_prune.cc:101: tree pruning end, 1970 extra nodes, 0 pruned nodes, max_depth=10\n",
      "[14:16:13] INFO: ../src/tree/updater_prune.cc:101: tree pruning end, 1936 extra nodes, 0 pruned nodes, max_depth=10\n",
      "[14:16:22] INFO: ../src/tree/updater_prune.cc:101: tree pruning end, 1938 extra nodes, 0 pruned nodes, max_depth=10\n",
      "[14:16:29] INFO: ../src/tree/updater_prune.cc:101: tree pruning end, 1962 extra nodes, 0 pruned nodes, max_depth=10\n",
      "[14:16:35] INFO: ../src/tree/updater_prune.cc:101: tree pruning end, 1976 extra nodes, 0 pruned nodes, max_depth=10\n",
      "[14:16:42] INFO: ../src/tree/updater_prune.cc:101: tree pruning end, 1918 extra nodes, 0 pruned nodes, max_depth=10\n",
      "[14:16:49] INFO: ../src/tree/updater_prune.cc:101: tree pruning end, 1926 extra nodes, 0 pruned nodes, max_depth=10\n",
      "[14:16:56] INFO: ../src/tree/updater_prune.cc:101: tree pruning end, 1938 extra nodes, 0 pruned nodes, max_depth=10\n",
      "[14:17:03] INFO: ../src/tree/updater_prune.cc:101: tree pruning end, 1898 extra nodes, 0 pruned nodes, max_depth=10\n",
      "[14:17:10] INFO: ../src/tree/updater_prune.cc:101: tree pruning end, 1892 extra nodes, 0 pruned nodes, max_depth=10\n",
      "[14:17:18] INFO: ../src/tree/updater_prune.cc:101: tree pruning end, 1888 extra nodes, 0 pruned nodes, max_depth=10\n",
      "[14:17:27] INFO: ../src/tree/updater_prune.cc:101: tree pruning end, 1890 extra nodes, 0 pruned nodes, max_depth=10\n",
      "[14:17:34] INFO: ../src/tree/updater_prune.cc:101: tree pruning end, 1872 extra nodes, 0 pruned nodes, max_depth=10\n",
      "[14:17:41] INFO: ../src/tree/updater_prune.cc:101: tree pruning end, 1870 extra nodes, 0 pruned nodes, max_depth=10\n",
      "[14:17:48] INFO: ../src/tree/updater_prune.cc:101: tree pruning end, 1820 extra nodes, 0 pruned nodes, max_depth=10\n",
      "[14:17:54] INFO: ../src/tree/updater_prune.cc:101: tree pruning end, 1830 extra nodes, 0 pruned nodes, max_depth=10\n",
      "[14:18:01] INFO: ../src/tree/updater_prune.cc:101: tree pruning end, 1852 extra nodes, 0 pruned nodes, max_depth=10\n",
      "[14:18:08] INFO: ../src/tree/updater_prune.cc:101: tree pruning end, 1774 extra nodes, 0 pruned nodes, max_depth=10\n",
      "[14:18:16] INFO: ../src/tree/updater_prune.cc:101: tree pruning end, 1792 extra nodes, 0 pruned nodes, max_depth=10\n",
      "[14:18:24] INFO: ../src/tree/updater_prune.cc:101: tree pruning end, 1826 extra nodes, 0 pruned nodes, max_depth=10\n",
      "[14:18:32] INFO: ../src/tree/updater_prune.cc:101: tree pruning end, 1750 extra nodes, 0 pruned nodes, max_depth=10\n",
      "[14:18:40] INFO: ../src/tree/updater_prune.cc:101: tree pruning end, 1802 extra nodes, 0 pruned nodes, max_depth=10\n",
      "[14:18:48] INFO: ../src/tree/updater_prune.cc:101: tree pruning end, 1716 extra nodes, 0 pruned nodes, max_depth=10\n",
      "[14:18:55] INFO: ../src/tree/updater_prune.cc:101: tree pruning end, 1736 extra nodes, 0 pruned nodes, max_depth=10\n",
      "[14:19:05] INFO: ../src/tree/updater_prune.cc:101: tree pruning end, 1642 extra nodes, 0 pruned nodes, max_depth=10\n",
      "[14:19:13] INFO: ../src/tree/updater_prune.cc:101: tree pruning end, 1666 extra nodes, 0 pruned nodes, max_depth=10\n",
      "[14:19:20] INFO: ../src/tree/updater_prune.cc:101: tree pruning end, 1656 extra nodes, 0 pruned nodes, max_depth=10\n",
      "[14:19:27] INFO: ../src/tree/updater_prune.cc:101: tree pruning end, 1630 extra nodes, 0 pruned nodes, max_depth=10\n",
      "[14:19:34] INFO: ../src/tree/updater_prune.cc:101: tree pruning end, 1646 extra nodes, 0 pruned nodes, max_depth=10\n",
      "[14:19:40] INFO: ../src/tree/updater_prune.cc:101: tree pruning end, 1556 extra nodes, 0 pruned nodes, max_depth=10\n",
      "[14:19:47] INFO: ../src/tree/updater_prune.cc:101: tree pruning end, 1582 extra nodes, 0 pruned nodes, max_depth=10\n",
      "[14:19:54] INFO: ../src/tree/updater_prune.cc:101: tree pruning end, 1568 extra nodes, 0 pruned nodes, max_depth=10\n",
      "[14:20:01] INFO: ../src/tree/updater_prune.cc:101: tree pruning end, 1502 extra nodes, 0 pruned nodes, max_depth=10\n",
      "[14:20:07] INFO: ../src/tree/updater_prune.cc:101: tree pruning end, 1550 extra nodes, 0 pruned nodes, max_depth=10\n",
      "[14:20:14] INFO: ../src/tree/updater_prune.cc:101: tree pruning end, 1426 extra nodes, 0 pruned nodes, max_depth=10\n",
      "[14:20:21] INFO: ../src/tree/updater_prune.cc:101: tree pruning end, 1406 extra nodes, 0 pruned nodes, max_depth=10\n",
      "[14:20:29] INFO: ../src/tree/updater_prune.cc:101: tree pruning end, 1412 extra nodes, 0 pruned nodes, max_depth=10\n",
      "[14:20:36] INFO: ../src/tree/updater_prune.cc:101: tree pruning end, 1382 extra nodes, 0 pruned nodes, max_depth=10\n",
      "[14:20:44] INFO: ../src/tree/updater_prune.cc:101: tree pruning end, 1454 extra nodes, 0 pruned nodes, max_depth=10\n",
      "[14:20:51] INFO: ../src/tree/updater_prune.cc:101: tree pruning end, 1328 extra nodes, 0 pruned nodes, max_depth=10\n",
      "[14:20:59] INFO: ../src/tree/updater_prune.cc:101: tree pruning end, 1318 extra nodes, 0 pruned nodes, max_depth=10\n",
      "[14:21:08] INFO: ../src/tree/updater_prune.cc:101: tree pruning end, 1282 extra nodes, 0 pruned nodes, max_depth=10\n",
      "[14:21:17] INFO: ../src/tree/updater_prune.cc:101: tree pruning end, 1228 extra nodes, 0 pruned nodes, max_depth=10\n",
      "[14:21:25] INFO: ../src/tree/updater_prune.cc:101: tree pruning end, 1030 extra nodes, 0 pruned nodes, max_depth=10\n",
      "[14:21:31] INFO: ../src/tree/updater_prune.cc:101: tree pruning end, 1220 extra nodes, 0 pruned nodes, max_depth=10\n",
      "[14:21:38] INFO: ../src/tree/updater_prune.cc:101: tree pruning end, 1174 extra nodes, 0 pruned nodes, max_depth=10\n",
      "[14:21:45] INFO: ../src/tree/updater_prune.cc:101: tree pruning end, 1104 extra nodes, 0 pruned nodes, max_depth=10\n",
      "[14:21:52] INFO: ../src/tree/updater_prune.cc:101: tree pruning end, 1050 extra nodes, 0 pruned nodes, max_depth=10\n",
      "[14:21:58] INFO: ../src/tree/updater_prune.cc:101: tree pruning end, 1096 extra nodes, 0 pruned nodes, max_depth=10\n",
      "[14:22:05] INFO: ../src/tree/updater_prune.cc:101: tree pruning end, 998 extra nodes, 0 pruned nodes, max_depth=10\n",
      "[14:22:12] INFO: ../src/tree/updater_prune.cc:101: tree pruning end, 998 extra nodes, 0 pruned nodes, max_depth=10\n",
      "[14:22:19] INFO: ../src/tree/updater_prune.cc:101: tree pruning end, 864 extra nodes, 0 pruned nodes, max_depth=10\n",
      "[14:22:26] INFO: ../src/tree/updater_prune.cc:101: tree pruning end, 932 extra nodes, 0 pruned nodes, max_depth=10\n",
      "[14:22:33] INFO: ../src/tree/updater_prune.cc:101: tree pruning end, 862 extra nodes, 0 pruned nodes, max_depth=10\n",
      "[14:22:40] INFO: ../src/tree/updater_prune.cc:101: tree pruning end, 1036 extra nodes, 0 pruned nodes, max_depth=10\n",
      "[14:22:46] INFO: ../src/tree/updater_prune.cc:101: tree pruning end, 1054 extra nodes, 0 pruned nodes, max_depth=10\n",
      "[14:22:53] INFO: ../src/tree/updater_prune.cc:101: tree pruning end, 912 extra nodes, 0 pruned nodes, max_depth=10\n",
      "[14:23:00] INFO: ../src/tree/updater_prune.cc:101: tree pruning end, 854 extra nodes, 0 pruned nodes, max_depth=10\n",
      "[14:23:07] INFO: ../src/tree/updater_prune.cc:101: tree pruning end, 852 extra nodes, 0 pruned nodes, max_depth=10\n",
      "[14:23:14] INFO: ../src/tree/updater_prune.cc:101: tree pruning end, 1000 extra nodes, 0 pruned nodes, max_depth=10\n",
      "[14:23:21] INFO: ../src/tree/updater_prune.cc:101: tree pruning end, 1068 extra nodes, 0 pruned nodes, max_depth=10\n",
      "[14:23:28] INFO: ../src/tree/updater_prune.cc:101: tree pruning end, 798 extra nodes, 0 pruned nodes, max_depth=10\n",
      "[14:23:37] INFO: ../src/tree/updater_prune.cc:101: tree pruning end, 1092 extra nodes, 0 pruned nodes, max_depth=10\n",
      "[14:23:44] INFO: ../src/tree/updater_prune.cc:101: tree pruning end, 942 extra nodes, 0 pruned nodes, max_depth=10\n",
      "[14:23:53] INFO: ../src/tree/updater_prune.cc:101: tree pruning end, 998 extra nodes, 0 pruned nodes, max_depth=10\n",
      "[14:24:00] INFO: ../src/tree/updater_prune.cc:101: tree pruning end, 1618 extra nodes, 0 pruned nodes, max_depth=10\n",
      "[14:24:08] INFO: ../src/tree/updater_prune.cc:101: tree pruning end, 1244 extra nodes, 0 pruned nodes, max_depth=10\n"
     ]
    },
    {
     "name": "stdout",
     "output_type": "stream",
     "text": [
      "[14:24:15] INFO: ../src/tree/updater_prune.cc:101: tree pruning end, 1304 extra nodes, 0 pruned nodes, max_depth=10\n",
      "[14:24:22] INFO: ../src/tree/updater_prune.cc:101: tree pruning end, 984 extra nodes, 0 pruned nodes, max_depth=10\n",
      "[14:24:29] INFO: ../src/tree/updater_prune.cc:101: tree pruning end, 1670 extra nodes, 0 pruned nodes, max_depth=10\n",
      "[14:24:36] INFO: ../src/tree/updater_prune.cc:101: tree pruning end, 1146 extra nodes, 0 pruned nodes, max_depth=10\n",
      "[14:24:43] INFO: ../src/tree/updater_prune.cc:101: tree pruning end, 1016 extra nodes, 0 pruned nodes, max_depth=10\n",
      "[14:24:50] INFO: ../src/tree/updater_prune.cc:101: tree pruning end, 1106 extra nodes, 0 pruned nodes, max_depth=10\n",
      "[14:24:57] INFO: ../src/tree/updater_prune.cc:101: tree pruning end, 1270 extra nodes, 0 pruned nodes, max_depth=10\n",
      "[14:25:05] INFO: ../src/tree/updater_prune.cc:101: tree pruning end, 916 extra nodes, 0 pruned nodes, max_depth=10\n",
      "[14:25:12] INFO: ../src/tree/updater_prune.cc:101: tree pruning end, 1296 extra nodes, 0 pruned nodes, max_depth=10\n",
      "[14:25:19] INFO: ../src/tree/updater_prune.cc:101: tree pruning end, 822 extra nodes, 0 pruned nodes, max_depth=10\n",
      "[14:25:26] INFO: ../src/tree/updater_prune.cc:101: tree pruning end, 1166 extra nodes, 0 pruned nodes, max_depth=10\n",
      "[14:25:34] INFO: ../src/tree/updater_prune.cc:101: tree pruning end, 848 extra nodes, 0 pruned nodes, max_depth=10\n",
      "[14:25:44] INFO: ../src/tree/updater_prune.cc:101: tree pruning end, 1192 extra nodes, 0 pruned nodes, max_depth=10\n",
      "[14:25:51] INFO: ../src/tree/updater_prune.cc:101: tree pruning end, 904 extra nodes, 0 pruned nodes, max_depth=10\n",
      "[14:25:58] INFO: ../src/tree/updater_prune.cc:101: tree pruning end, 1238 extra nodes, 0 pruned nodes, max_depth=10\n",
      "[14:26:04] INFO: ../src/tree/updater_prune.cc:101: tree pruning end, 1356 extra nodes, 0 pruned nodes, max_depth=10\n",
      "[14:26:12] INFO: ../src/tree/updater_prune.cc:101: tree pruning end, 836 extra nodes, 0 pruned nodes, max_depth=10\n",
      "[14:26:20] INFO: ../src/tree/updater_prune.cc:101: tree pruning end, 1180 extra nodes, 0 pruned nodes, max_depth=10\n",
      "[14:26:28] INFO: ../src/tree/updater_prune.cc:101: tree pruning end, 1348 extra nodes, 0 pruned nodes, max_depth=10\n",
      "[14:26:35] INFO: ../src/tree/updater_prune.cc:101: tree pruning end, 1116 extra nodes, 0 pruned nodes, max_depth=10\n",
      "[14:26:44] INFO: ../src/tree/updater_prune.cc:101: tree pruning end, 1236 extra nodes, 0 pruned nodes, max_depth=10\n",
      "[14:26:51] INFO: ../src/tree/updater_prune.cc:101: tree pruning end, 664 extra nodes, 0 pruned nodes, max_depth=10\n",
      "[14:26:58] INFO: ../src/tree/updater_prune.cc:101: tree pruning end, 1362 extra nodes, 0 pruned nodes, max_depth=10\n",
      "[14:27:05] INFO: ../src/tree/updater_prune.cc:101: tree pruning end, 1156 extra nodes, 0 pruned nodes, max_depth=10\n",
      "[14:27:12] INFO: ../src/tree/updater_prune.cc:101: tree pruning end, 784 extra nodes, 0 pruned nodes, max_depth=10\n",
      "[14:27:19] INFO: ../src/tree/updater_prune.cc:101: tree pruning end, 454 extra nodes, 0 pruned nodes, max_depth=10\n",
      "[14:27:26] INFO: ../src/tree/updater_prune.cc:101: tree pruning end, 1076 extra nodes, 0 pruned nodes, max_depth=10\n",
      "[14:27:33] INFO: ../src/tree/updater_prune.cc:101: tree pruning end, 918 extra nodes, 0 pruned nodes, max_depth=10\n",
      "[14:27:41] INFO: ../src/tree/updater_prune.cc:101: tree pruning end, 862 extra nodes, 0 pruned nodes, max_depth=10\n",
      "[14:27:41] ======== Monitor (0): Learner ========\n",
      "[14:27:41] Configure: 0s, 1 calls @ 0us\n",
      "\n",
      "[14:27:41] EvalOneIter: 0.000256s, 100 calls @ 256us\n",
      "\n",
      "[14:27:41] GetGradient: 1.43005s, 100 calls @ 1430051us\n",
      "\n",
      "[14:27:41] PredictRaw: 5.45674s, 100 calls @ 5456742us\n",
      "\n",
      "[14:27:41] UpdateOneIter: 732.636s, 100 calls @ 732636172us\n",
      "\n",
      "[14:27:41] ======== Monitor (0): GBTree ========\n",
      "[14:27:41] BoostNewTrees: 733.926s, 100 calls @ 733925830us\n",
      "\n",
      "[14:27:41] CommitModel: 6e-05s, 100 calls @ 60us\n",
      "\n",
      "[14:27:41] ======== Monitor (0): TreePruner ========\n",
      "[14:27:41] PrunerUpdate: 0.055908s, 100 calls @ 55908us\n",
      "\n",
      "742.2412650585175\n"
     ]
    }
   ],
   "source": [
    "start_time = time.time()\n",
    "estimator_low = estimator.fit(X_train_low,y_train)\n",
    "time_low =  time.time() - start_time\n",
    "print(time_low)"
   ]
  },
  {
   "cell_type": "code",
   "execution_count": 8,
   "id": "e0005bc7",
   "metadata": {},
   "outputs": [],
   "source": [
    "y_prob_low=estimator_low.predict_proba(X_test_low)\n",
    "y_pred_low=estimator_low.predict(X_test_low)"
   ]
  },
  {
   "cell_type": "code",
   "execution_count": 9,
   "id": "57171a9a",
   "metadata": {},
   "outputs": [
    {
     "data": {
      "text/plain": [
       "array([[470794,  70975],\n",
       "       [130941, 327290]])"
      ]
     },
     "execution_count": 9,
     "metadata": {},
     "output_type": "execute_result"
    }
   ],
   "source": [
    "table_low = confusion_matrix(y_test, y_pred_low)\n",
    "table_low"
   ]
  },
  {
   "cell_type": "code",
   "execution_count": 10,
   "id": "0bbf5e8d",
   "metadata": {},
   "outputs": [
    {
     "name": "stdout",
     "output_type": "stream",
     "text": [
      "0.798084\n"
     ]
    }
   ],
   "source": [
    "accuracy_low = accuracy_score(y_pred_low, y_test)\n",
    "print(accuracy_low)"
   ]
  },
  {
   "cell_type": "code",
   "execution_count": 11,
   "id": "a43a2665",
   "metadata": {},
   "outputs": [
    {
     "name": "stdout",
     "output_type": "stream",
     "text": [
      "0.8708338004016316\n"
     ]
    }
   ],
   "source": [
    "roc_low = roc_auc_score(y_test, y_prob_low[:,1])\n",
    "print(roc_low)"
   ]
  },
  {
   "cell_type": "code",
   "execution_count": 18,
   "id": "88abe484",
   "metadata": {},
   "outputs": [
    {
     "name": "stdout",
     "output_type": "stream",
     "text": [
      "[0.24053003 0.03514664 0.02695789 0.02446084 0.02689432 0.03316687\n",
      " 0.5867282  0.0261152 ]\n",
      "['lepton 1 pT', 'lepton 1 eta', 'lepton 1 phi', 'lepton 2 pT', 'lepton 2 eta', 'lepton 2 phi', 'missing energy magnitude', 'missing energy phi']\n"
     ]
    }
   ],
   "source": [
    "print(estimator_low.feature_importances_)\n",
    "print(estimator_low.get_booster().feature_names)"
   ]
  },
  {
   "cell_type": "code",
   "execution_count": 21,
   "id": "d9ff01ba",
   "metadata": {},
   "outputs": [
    {
     "data": {
      "image/png": "[encoded data removed]",
      "text/plain": [
       "<Figure size 432x288 with 1 Axes>"
      ]
     },
     "metadata": {
      "needs_background": "light"
     },
     "output_type": "display_data"
    }
   ],
   "source": [
    "indices = np.argsort(estimator_low.feature_importances_)\n",
    "plt.title('XGBoost Feature Importances')\n",
    "plt.barh(range(len(indices)), estimator_low.feature_importances_[indices], color='b', align='center')\n",
    "plt.yticks(range(len(indices)), [estimator_low.get_booster().feature_names[i] for i in indices])\n",
    "plt.xlabel('Relative Importance')\n",
    "plt.show()"
   ]
  },
  {
   "cell_type": "markdown",
   "id": "d7cc2b89",
   "metadata": {},
   "source": [
    "# Use high-level features"
   ]
  },
  {
   "cell_type": "code",
   "execution_count": 22,
   "id": "0ebe59de",
   "metadata": {},
   "outputs": [
    {
     "name": "stderr",
     "output_type": "stream",
     "text": [
      "/home/kin/Desktop/Learning/Data_Mining_Course_Project/jupy_env/lib/python3.8/site-packages/xgboost/sklearn.py:1224: UserWarning: The use of label encoder in XGBClassifier is deprecated and will be removed in a future release. To remove this warning, do the following: 1) Pass option use_label_encoder=False when constructing XGBClassifier object; and 2) Encode your labels (y) as integers starting with 0, i.e. 0, 1, 2, ..., [num_class - 1].\n",
      "  warnings.warn(label_encoder_deprecation_msg, UserWarning)\n"
     ]
    },
    {
     "name": "stdout",
     "output_type": "stream",
     "text": [
      "[14:33:01] INFO: ../src/tree/updater_prune.cc:101: tree pruning end, 1824 extra nodes, 0 pruned nodes, max_depth=10\n",
      "[14:33:12] INFO: ../src/tree/updater_prune.cc:101: tree pruning end, 1812 extra nodes, 0 pruned nodes, max_depth=10\n",
      "[14:33:22] INFO: ../src/tree/updater_prune.cc:101: tree pruning end, 1776 extra nodes, 0 pruned nodes, max_depth=10\n",
      "[14:33:33] INFO: ../src/tree/updater_prune.cc:101: tree pruning end, 1830 extra nodes, 0 pruned nodes, max_depth=10\n",
      "[14:33:46] INFO: ../src/tree/updater_prune.cc:101: tree pruning end, 1774 extra nodes, 0 pruned nodes, max_depth=10\n",
      "[14:33:59] INFO: ../src/tree/updater_prune.cc:101: tree pruning end, 1786 extra nodes, 0 pruned nodes, max_depth=10\n",
      "[14:34:10] INFO: ../src/tree/updater_prune.cc:101: tree pruning end, 1772 extra nodes, 0 pruned nodes, max_depth=10\n",
      "[14:34:20] INFO: ../src/tree/updater_prune.cc:101: tree pruning end, 1772 extra nodes, 0 pruned nodes, max_depth=10\n",
      "[14:34:30] INFO: ../src/tree/updater_prune.cc:101: tree pruning end, 1742 extra nodes, 0 pruned nodes, max_depth=10\n",
      "[14:34:40] INFO: ../src/tree/updater_prune.cc:101: tree pruning end, 1644 extra nodes, 0 pruned nodes, max_depth=10\n",
      "[14:34:50] INFO: ../src/tree/updater_prune.cc:101: tree pruning end, 1672 extra nodes, 0 pruned nodes, max_depth=10\n",
      "[14:35:00] INFO: ../src/tree/updater_prune.cc:101: tree pruning end, 1746 extra nodes, 0 pruned nodes, max_depth=10\n",
      "[14:35:10] INFO: ../src/tree/updater_prune.cc:101: tree pruning end, 1594 extra nodes, 0 pruned nodes, max_depth=10\n",
      "[14:35:20] INFO: ../src/tree/updater_prune.cc:101: tree pruning end, 1602 extra nodes, 0 pruned nodes, max_depth=10\n",
      "[14:35:30] INFO: ../src/tree/updater_prune.cc:101: tree pruning end, 1588 extra nodes, 0 pruned nodes, max_depth=10\n",
      "[14:35:40] INFO: ../src/tree/updater_prune.cc:101: tree pruning end, 1564 extra nodes, 0 pruned nodes, max_depth=10\n",
      "[14:35:50] INFO: ../src/tree/updater_prune.cc:101: tree pruning end, 1548 extra nodes, 0 pruned nodes, max_depth=10\n",
      "[14:36:00] INFO: ../src/tree/updater_prune.cc:101: tree pruning end, 1460 extra nodes, 0 pruned nodes, max_depth=10\n",
      "[14:36:10] INFO: ../src/tree/updater_prune.cc:101: tree pruning end, 1496 extra nodes, 0 pruned nodes, max_depth=10\n",
      "[14:36:20] INFO: ../src/tree/updater_prune.cc:101: tree pruning end, 1402 extra nodes, 0 pruned nodes, max_depth=10\n",
      "[14:36:30] INFO: ../src/tree/updater_prune.cc:101: tree pruning end, 1402 extra nodes, 0 pruned nodes, max_depth=10\n",
      "[14:36:40] INFO: ../src/tree/updater_prune.cc:101: tree pruning end, 1370 extra nodes, 0 pruned nodes, max_depth=10\n",
      "[14:36:50] INFO: ../src/tree/updater_prune.cc:101: tree pruning end, 1348 extra nodes, 0 pruned nodes, max_depth=10\n",
      "[14:37:00] INFO: ../src/tree/updater_prune.cc:101: tree pruning end, 1376 extra nodes, 0 pruned nodes, max_depth=10\n",
      "[14:37:10] INFO: ../src/tree/updater_prune.cc:101: tree pruning end, 1334 extra nodes, 0 pruned nodes, max_depth=10\n",
      "[14:37:20] INFO: ../src/tree/updater_prune.cc:101: tree pruning end, 1334 extra nodes, 0 pruned nodes, max_depth=10\n",
      "[14:37:30] INFO: ../src/tree/updater_prune.cc:101: tree pruning end, 1268 extra nodes, 0 pruned nodes, max_depth=10\n",
      "[14:37:40] INFO: ../src/tree/updater_prune.cc:101: tree pruning end, 1254 extra nodes, 0 pruned nodes, max_depth=10\n",
      "[14:37:50] INFO: ../src/tree/updater_prune.cc:101: tree pruning end, 1304 extra nodes, 0 pruned nodes, max_depth=10\n",
      "[14:38:00] INFO: ../src/tree/updater_prune.cc:101: tree pruning end, 1302 extra nodes, 0 pruned nodes, max_depth=10\n",
      "[14:38:10] INFO: ../src/tree/updater_prune.cc:101: tree pruning end, 1262 extra nodes, 0 pruned nodes, max_depth=10\n",
      "[14:38:20] INFO: ../src/tree/updater_prune.cc:101: tree pruning end, 1244 extra nodes, 0 pruned nodes, max_depth=10\n",
      "[14:38:30] INFO: ../src/tree/updater_prune.cc:101: tree pruning end, 1246 extra nodes, 0 pruned nodes, max_depth=10\n",
      "[14:38:39] INFO: ../src/tree/updater_prune.cc:101: tree pruning end, 1132 extra nodes, 0 pruned nodes, max_depth=10\n",
      "[14:38:49] INFO: ../src/tree/updater_prune.cc:101: tree pruning end, 1188 extra nodes, 0 pruned nodes, max_depth=10\n",
      "[14:39:00] INFO: ../src/tree/updater_prune.cc:101: tree pruning end, 1152 extra nodes, 0 pruned nodes, max_depth=10\n",
      "[14:39:10] INFO: ../src/tree/updater_prune.cc:101: tree pruning end, 1140 extra nodes, 0 pruned nodes, max_depth=10\n",
      "[14:39:20] INFO: ../src/tree/updater_prune.cc:101: tree pruning end, 1036 extra nodes, 0 pruned nodes, max_depth=10\n",
      "[14:39:29] INFO: ../src/tree/updater_prune.cc:101: tree pruning end, 1052 extra nodes, 0 pruned nodes, max_depth=10\n",
      "[14:39:39] INFO: ../src/tree/updater_prune.cc:101: tree pruning end, 920 extra nodes, 0 pruned nodes, max_depth=10\n",
      "[14:39:49] INFO: ../src/tree/updater_prune.cc:101: tree pruning end, 898 extra nodes, 0 pruned nodes, max_depth=10\n",
      "[14:40:00] INFO: ../src/tree/updater_prune.cc:101: tree pruning end, 876 extra nodes, 0 pruned nodes, max_depth=10\n",
      "[14:40:13] INFO: ../src/tree/updater_prune.cc:101: tree pruning end, 842 extra nodes, 0 pruned nodes, max_depth=10\n",
      "[14:40:25] INFO: ../src/tree/updater_prune.cc:101: tree pruning end, 964 extra nodes, 0 pruned nodes, max_depth=10\n",
      "[14:40:38] INFO: ../src/tree/updater_prune.cc:101: tree pruning end, 794 extra nodes, 0 pruned nodes, max_depth=10\n",
      "[14:40:48] INFO: ../src/tree/updater_prune.cc:101: tree pruning end, 984 extra nodes, 0 pruned nodes, max_depth=10\n",
      "[14:40:57] INFO: ../src/tree/updater_prune.cc:101: tree pruning end, 766 extra nodes, 0 pruned nodes, max_depth=10\n",
      "[14:41:06] INFO: ../src/tree/updater_prune.cc:101: tree pruning end, 724 extra nodes, 0 pruned nodes, max_depth=10\n",
      "[14:41:15] INFO: ../src/tree/updater_prune.cc:101: tree pruning end, 848 extra nodes, 0 pruned nodes, max_depth=10\n",
      "[14:41:25] INFO: ../src/tree/updater_prune.cc:101: tree pruning end, 748 extra nodes, 0 pruned nodes, max_depth=10\n",
      "[14:41:39] INFO: ../src/tree/updater_prune.cc:101: tree pruning end, 776 extra nodes, 0 pruned nodes, max_depth=10\n",
      "[14:41:55] INFO: ../src/tree/updater_prune.cc:101: tree pruning end, 982 extra nodes, 0 pruned nodes, max_depth=10\n",
      "[14:42:09] INFO: ../src/tree/updater_prune.cc:101: tree pruning end, 802 extra nodes, 0 pruned nodes, max_depth=10\n",
      "[14:42:25] INFO: ../src/tree/updater_prune.cc:101: tree pruning end, 682 extra nodes, 0 pruned nodes, max_depth=10\n",
      "[14:42:42] INFO: ../src/tree/updater_prune.cc:101: tree pruning end, 642 extra nodes, 0 pruned nodes, max_depth=10\n",
      "[14:42:57] INFO: ../src/tree/updater_prune.cc:101: tree pruning end, 624 extra nodes, 0 pruned nodes, max_depth=10\n",
      "[14:43:17] INFO: ../src/tree/updater_prune.cc:101: tree pruning end, 592 extra nodes, 0 pruned nodes, max_depth=10\n",
      "[14:43:31] INFO: ../src/tree/updater_prune.cc:101: tree pruning end, 570 extra nodes, 0 pruned nodes, max_depth=10\n",
      "[14:43:47] INFO: ../src/tree/updater_prune.cc:101: tree pruning end, 704 extra nodes, 0 pruned nodes, max_depth=10\n",
      "[14:43:59] INFO: ../src/tree/updater_prune.cc:101: tree pruning end, 524 extra nodes, 0 pruned nodes, max_depth=10\n",
      "[14:44:14] INFO: ../src/tree/updater_prune.cc:101: tree pruning end, 610 extra nodes, 0 pruned nodes, max_depth=10\n",
      "[14:44:30] INFO: ../src/tree/updater_prune.cc:101: tree pruning end, 640 extra nodes, 0 pruned nodes, max_depth=10\n",
      "[14:44:40] INFO: ../src/tree/updater_prune.cc:101: tree pruning end, 930 extra nodes, 0 pruned nodes, max_depth=10\n",
      "[14:44:50] INFO: ../src/tree/updater_prune.cc:101: tree pruning end, 794 extra nodes, 0 pruned nodes, max_depth=10\n",
      "[14:45:03] INFO: ../src/tree/updater_prune.cc:101: tree pruning end, 518 extra nodes, 0 pruned nodes, max_depth=10\n",
      "[14:45:17] INFO: ../src/tree/updater_prune.cc:101: tree pruning end, 850 extra nodes, 0 pruned nodes, max_depth=10\n",
      "[14:45:28] INFO: ../src/tree/updater_prune.cc:101: tree pruning end, 460 extra nodes, 0 pruned nodes, max_depth=10\n",
      "[14:45:39] INFO: ../src/tree/updater_prune.cc:101: tree pruning end, 524 extra nodes, 0 pruned nodes, max_depth=10\n",
      "[14:45:48] INFO: ../src/tree/updater_prune.cc:101: tree pruning end, 776 extra nodes, 0 pruned nodes, max_depth=10\n",
      "[14:45:57] INFO: ../src/tree/updater_prune.cc:101: tree pruning end, 544 extra nodes, 0 pruned nodes, max_depth=10\n",
      "[14:46:05] INFO: ../src/tree/updater_prune.cc:101: tree pruning end, 542 extra nodes, 0 pruned nodes, max_depth=10\n"
     ]
    },
    {
     "name": "stdout",
     "output_type": "stream",
     "text": [
      "[14:46:14] INFO: ../src/tree/updater_prune.cc:101: tree pruning end, 508 extra nodes, 0 pruned nodes, max_depth=10\n",
      "[14:46:22] INFO: ../src/tree/updater_prune.cc:101: tree pruning end, 392 extra nodes, 0 pruned nodes, max_depth=10\n",
      "[14:46:31] INFO: ../src/tree/updater_prune.cc:101: tree pruning end, 966 extra nodes, 0 pruned nodes, max_depth=10\n",
      "[14:46:42] INFO: ../src/tree/updater_prune.cc:101: tree pruning end, 674 extra nodes, 0 pruned nodes, max_depth=10\n",
      "[14:46:53] INFO: ../src/tree/updater_prune.cc:101: tree pruning end, 652 extra nodes, 0 pruned nodes, max_depth=10\n",
      "[14:47:02] INFO: ../src/tree/updater_prune.cc:101: tree pruning end, 398 extra nodes, 0 pruned nodes, max_depth=10\n",
      "[14:47:11] INFO: ../src/tree/updater_prune.cc:101: tree pruning end, 904 extra nodes, 0 pruned nodes, max_depth=10\n",
      "[14:47:20] INFO: ../src/tree/updater_prune.cc:101: tree pruning end, 772 extra nodes, 0 pruned nodes, max_depth=10\n",
      "[14:47:29] INFO: ../src/tree/updater_prune.cc:101: tree pruning end, 1606 extra nodes, 0 pruned nodes, max_depth=10\n",
      "[14:47:38] INFO: ../src/tree/updater_prune.cc:101: tree pruning end, 666 extra nodes, 0 pruned nodes, max_depth=10\n",
      "[14:47:47] INFO: ../src/tree/updater_prune.cc:101: tree pruning end, 798 extra nodes, 0 pruned nodes, max_depth=10\n",
      "[14:47:55] INFO: ../src/tree/updater_prune.cc:101: tree pruning end, 948 extra nodes, 0 pruned nodes, max_depth=10\n",
      "[14:48:04] INFO: ../src/tree/updater_prune.cc:101: tree pruning end, 484 extra nodes, 0 pruned nodes, max_depth=10\n",
      "[14:48:13] INFO: ../src/tree/updater_prune.cc:101: tree pruning end, 1220 extra nodes, 0 pruned nodes, max_depth=10\n",
      "[14:48:24] INFO: ../src/tree/updater_prune.cc:101: tree pruning end, 606 extra nodes, 0 pruned nodes, max_depth=10\n",
      "[14:48:33] INFO: ../src/tree/updater_prune.cc:101: tree pruning end, 1196 extra nodes, 0 pruned nodes, max_depth=10\n",
      "[14:48:41] INFO: ../src/tree/updater_prune.cc:101: tree pruning end, 558 extra nodes, 0 pruned nodes, max_depth=10\n",
      "[14:48:50] INFO: ../src/tree/updater_prune.cc:101: tree pruning end, 654 extra nodes, 0 pruned nodes, max_depth=10\n",
      "[14:48:58] INFO: ../src/tree/updater_prune.cc:101: tree pruning end, 572 extra nodes, 0 pruned nodes, max_depth=10\n",
      "[14:49:07] INFO: ../src/tree/updater_prune.cc:101: tree pruning end, 1034 extra nodes, 0 pruned nodes, max_depth=10\n",
      "[14:49:16] INFO: ../src/tree/updater_prune.cc:101: tree pruning end, 1450 extra nodes, 0 pruned nodes, max_depth=10\n",
      "[14:49:25] INFO: ../src/tree/updater_prune.cc:101: tree pruning end, 1072 extra nodes, 0 pruned nodes, max_depth=10\n",
      "[14:49:34] INFO: ../src/tree/updater_prune.cc:101: tree pruning end, 1070 extra nodes, 0 pruned nodes, max_depth=10\n",
      "[14:49:42] INFO: ../src/tree/updater_prune.cc:101: tree pruning end, 608 extra nodes, 0 pruned nodes, max_depth=10\n",
      "[14:49:51] INFO: ../src/tree/updater_prune.cc:101: tree pruning end, 1474 extra nodes, 0 pruned nodes, max_depth=10\n",
      "[14:49:59] INFO: ../src/tree/updater_prune.cc:101: tree pruning end, 334 extra nodes, 0 pruned nodes, max_depth=10\n",
      "[14:50:07] INFO: ../src/tree/updater_prune.cc:101: tree pruning end, 448 extra nodes, 0 pruned nodes, max_depth=10\n",
      "[14:50:15] INFO: ../src/tree/updater_prune.cc:101: tree pruning end, 508 extra nodes, 0 pruned nodes, max_depth=10\n",
      "[14:50:24] INFO: ../src/tree/updater_prune.cc:101: tree pruning end, 1040 extra nodes, 0 pruned nodes, max_depth=10\n",
      "[14:50:24] ======== Monitor (0): Learner ========\n",
      "[14:50:24] Configure: 0.000486s, 1 calls @ 486us\n",
      "\n",
      "[14:50:24] EvalOneIter: 0.000277s, 100 calls @ 277us\n",
      "\n",
      "[14:50:24] GetGradient: 1.55825s, 100 calls @ 1558249us\n",
      "\n",
      "[14:50:24] PredictRaw: 6.10913s, 100 calls @ 6109131us\n",
      "\n",
      "[14:50:24] UpdateOneIter: 1055.88s, 100 calls @ 1055876820us\n",
      "\n",
      "[14:50:24] ======== Monitor (0): GBTree ========\n",
      "[14:50:24] BoostNewTrees: 1048.21s, 100 calls @ 1048205244us\n",
      "\n",
      "[14:50:24] CommitModel: 6.3e-05s, 100 calls @ 63us\n",
      "\n",
      "[14:50:24] ======== Monitor (0): TreePruner ========\n",
      "[14:50:24] PrunerUpdate: 0.042951s, 100 calls @ 42951us\n",
      "\n",
      "[14:50:24] ======== Monitor (0): Learner ========\n",
      "[14:50:24] Configure: 0.000435s, 1 calls @ 435us\n",
      "\n",
      "[14:50:24] ======== Monitor (0): GBTree ========\n",
      "[14:50:24] ======== Monitor (0): TreePruner ========\n",
      "1057.2527122497559\n"
     ]
    }
   ],
   "source": [
    "start_time = time.time()\n",
    "estimator_high = estimator.fit(X_train_high,y_train)\n",
    "time_high =  time.time() - start_time\n",
    "print(time_high)"
   ]
  },
  {
   "cell_type": "code",
   "execution_count": 23,
   "id": "128ad646",
   "metadata": {},
   "outputs": [],
   "source": [
    "y_prob_high=estimator_high.predict_proba(X_test_high)\n",
    "y_pred_high=estimator_high.predict(X_test_high)"
   ]
  },
  {
   "cell_type": "code",
   "execution_count": 24,
   "id": "fa6f61c9",
   "metadata": {},
   "outputs": [
    {
     "data": {
      "text/plain": [
       "array([[471955,  69814],\n",
       "       [135607, 322624]])"
      ]
     },
     "execution_count": 24,
     "metadata": {},
     "output_type": "execute_result"
    }
   ],
   "source": [
    "table_high = confusion_matrix(y_test, y_pred_high)\n",
    "table_high"
   ]
  },
  {
   "cell_type": "code",
   "execution_count": 25,
   "id": "2b965ec7",
   "metadata": {},
   "outputs": [
    {
     "name": "stdout",
     "output_type": "stream",
     "text": [
      "0.794579\n"
     ]
    }
   ],
   "source": [
    "accuracy_high = accuracy_score(y_pred_high, y_test)\n",
    "print(accuracy_high)"
   ]
  },
  {
   "cell_type": "code",
   "execution_count": 26,
   "id": "81180cc3",
   "metadata": {},
   "outputs": [
    {
     "name": "stdout",
     "output_type": "stream",
     "text": [
      "0.8656736098893119\n"
     ]
    }
   ],
   "source": [
    "roc_high = roc_auc_score(y_test, y_prob_high[:,1])\n",
    "print(roc_high)"
   ]
  },
  {
   "cell_type": "code",
   "execution_count": 27,
   "id": "c3ad136e",
   "metadata": {},
   "outputs": [
    {
     "name": "stdout",
     "output_type": "stream",
     "text": [
      "[0.03101413 0.17899087 0.09728272 0.5243564  0.0260924  0.02212754\n",
      " 0.01897777 0.02345055 0.0291258  0.04858185]\n",
      "['MET_rel', 'axial MET', 'M_R', 'M_TR_2', 'R', 'MT2', 'S_R', 'M_Delta_R', 'dPhi_r_b', 'cos(theta_r1)']\n"
     ]
    }
   ],
   "source": [
    "print(estimator_high.feature_importances_)\n",
    "print(estimator_high.get_booster().feature_names)"
   ]
  },
  {
   "cell_type": "code",
   "execution_count": 28,
   "id": "97be837d",
   "metadata": {},
   "outputs": [
    {
     "data": {
      "image/png": "[encoded data removed]",
      "text/plain": [
       "<Figure size 432x288 with 1 Axes>"
      ]
     },
     "metadata": {
      "needs_background": "light"
     },
     "output_type": "display_data"
    }
   ],
   "source": [
    "indices = np.argsort(estimator_high.feature_importances_)\n",
    "plt.title('Feature Importances')\n",
    "plt.barh(range(len(indices)), estimator_high.feature_importances_[indices], color='b', align='center')\n",
    "plt.yticks(range(len(indices)), [estimator_high.get_booster().feature_names[i] for i in indices])\n",
    "plt.xlabel('Importance')\n",
    "plt.show()"
   ]
  },
  {
   "cell_type": "markdown",
   "id": "3a660ec6",
   "metadata": {},
   "source": [
    "# Use all features"
   ]
  },
  {
   "cell_type": "code",
   "execution_count": 30,
   "id": "d1dc35a3",
   "metadata": {},
   "outputs": [
    {
     "name": "stderr",
     "output_type": "stream",
     "text": [
      "/home/kin/Desktop/Learning/Data_Mining_Course_Project/jupy_env/lib/python3.8/site-packages/xgboost/sklearn.py:1224: UserWarning: The use of label encoder in XGBClassifier is deprecated and will be removed in a future release. To remove this warning, do the following: 1) Pass option use_label_encoder=False when constructing XGBClassifier object; and 2) Encode your labels (y) as integers starting with 0, i.e. 0, 1, 2, ..., [num_class - 1].\n",
      "  warnings.warn(label_encoder_deprecation_msg, UserWarning)\n"
     ]
    },
    {
     "name": "stdout",
     "output_type": "stream",
     "text": [
      "[14:51:16] INFO: ../src/tree/updater_prune.cc:101: tree pruning end, 1900 extra nodes, 0 pruned nodes, max_depth=10\n",
      "[14:51:31] INFO: ../src/tree/updater_prune.cc:101: tree pruning end, 1918 extra nodes, 0 pruned nodes, max_depth=10\n",
      "[14:51:46] INFO: ../src/tree/updater_prune.cc:101: tree pruning end, 1906 extra nodes, 0 pruned nodes, max_depth=10\n",
      "[14:52:00] INFO: ../src/tree/updater_prune.cc:101: tree pruning end, 1912 extra nodes, 0 pruned nodes, max_depth=10\n",
      "[14:52:14] INFO: ../src/tree/updater_prune.cc:101: tree pruning end, 1924 extra nodes, 0 pruned nodes, max_depth=10\n",
      "[14:52:29] INFO: ../src/tree/updater_prune.cc:101: tree pruning end, 1920 extra nodes, 0 pruned nodes, max_depth=10\n",
      "[14:52:43] INFO: ../src/tree/updater_prune.cc:101: tree pruning end, 1928 extra nodes, 0 pruned nodes, max_depth=10\n",
      "[14:52:57] INFO: ../src/tree/updater_prune.cc:101: tree pruning end, 1868 extra nodes, 0 pruned nodes, max_depth=10\n",
      "[14:53:12] INFO: ../src/tree/updater_prune.cc:101: tree pruning end, 1886 extra nodes, 0 pruned nodes, max_depth=10\n",
      "[14:53:26] INFO: ../src/tree/updater_prune.cc:101: tree pruning end, 1890 extra nodes, 0 pruned nodes, max_depth=10\n",
      "[14:53:41] INFO: ../src/tree/updater_prune.cc:101: tree pruning end, 1870 extra nodes, 0 pruned nodes, max_depth=10\n",
      "[14:53:56] INFO: ../src/tree/updater_prune.cc:101: tree pruning end, 1844 extra nodes, 0 pruned nodes, max_depth=10\n",
      "[14:54:10] INFO: ../src/tree/updater_prune.cc:101: tree pruning end, 1846 extra nodes, 0 pruned nodes, max_depth=10\n",
      "[14:54:25] INFO: ../src/tree/updater_prune.cc:101: tree pruning end, 1818 extra nodes, 0 pruned nodes, max_depth=10\n",
      "[14:54:39] INFO: ../src/tree/updater_prune.cc:101: tree pruning end, 1858 extra nodes, 0 pruned nodes, max_depth=10\n",
      "[14:54:54] INFO: ../src/tree/updater_prune.cc:101: tree pruning end, 1814 extra nodes, 0 pruned nodes, max_depth=10\n",
      "[14:55:08] INFO: ../src/tree/updater_prune.cc:101: tree pruning end, 1850 extra nodes, 0 pruned nodes, max_depth=10\n",
      "[14:55:23] INFO: ../src/tree/updater_prune.cc:101: tree pruning end, 1878 extra nodes, 0 pruned nodes, max_depth=10\n",
      "[14:55:38] INFO: ../src/tree/updater_prune.cc:101: tree pruning end, 1802 extra nodes, 0 pruned nodes, max_depth=10\n",
      "[14:55:52] INFO: ../src/tree/updater_prune.cc:101: tree pruning end, 1780 extra nodes, 0 pruned nodes, max_depth=10\n",
      "[14:56:07] INFO: ../src/tree/updater_prune.cc:101: tree pruning end, 1780 extra nodes, 0 pruned nodes, max_depth=10\n",
      "[14:56:22] INFO: ../src/tree/updater_prune.cc:101: tree pruning end, 1736 extra nodes, 0 pruned nodes, max_depth=10\n",
      "[14:56:38] INFO: ../src/tree/updater_prune.cc:101: tree pruning end, 1736 extra nodes, 0 pruned nodes, max_depth=10\n",
      "[14:56:53] INFO: ../src/tree/updater_prune.cc:101: tree pruning end, 1706 extra nodes, 0 pruned nodes, max_depth=10\n",
      "[14:57:07] INFO: ../src/tree/updater_prune.cc:101: tree pruning end, 1654 extra nodes, 0 pruned nodes, max_depth=10\n",
      "[14:57:22] INFO: ../src/tree/updater_prune.cc:101: tree pruning end, 1654 extra nodes, 0 pruned nodes, max_depth=10\n",
      "[14:57:36] INFO: ../src/tree/updater_prune.cc:101: tree pruning end, 1592 extra nodes, 0 pruned nodes, max_depth=10\n",
      "[14:57:51] INFO: ../src/tree/updater_prune.cc:101: tree pruning end, 1594 extra nodes, 0 pruned nodes, max_depth=10\n",
      "[14:58:05] INFO: ../src/tree/updater_prune.cc:101: tree pruning end, 1550 extra nodes, 0 pruned nodes, max_depth=10\n",
      "[14:58:20] INFO: ../src/tree/updater_prune.cc:101: tree pruning end, 1562 extra nodes, 0 pruned nodes, max_depth=10\n",
      "[14:58:35] INFO: ../src/tree/updater_prune.cc:101: tree pruning end, 1516 extra nodes, 0 pruned nodes, max_depth=10\n",
      "[14:58:49] INFO: ../src/tree/updater_prune.cc:101: tree pruning end, 1564 extra nodes, 0 pruned nodes, max_depth=10\n",
      "[14:59:04] INFO: ../src/tree/updater_prune.cc:101: tree pruning end, 1522 extra nodes, 0 pruned nodes, max_depth=10\n",
      "[14:59:18] INFO: ../src/tree/updater_prune.cc:101: tree pruning end, 1570 extra nodes, 0 pruned nodes, max_depth=10\n",
      "[14:59:33] INFO: ../src/tree/updater_prune.cc:101: tree pruning end, 1468 extra nodes, 0 pruned nodes, max_depth=10\n",
      "[14:59:47] INFO: ../src/tree/updater_prune.cc:101: tree pruning end, 1472 extra nodes, 0 pruned nodes, max_depth=10\n",
      "[15:00:02] INFO: ../src/tree/updater_prune.cc:101: tree pruning end, 1528 extra nodes, 0 pruned nodes, max_depth=10\n",
      "[15:00:17] INFO: ../src/tree/updater_prune.cc:101: tree pruning end, 1362 extra nodes, 0 pruned nodes, max_depth=10\n",
      "[15:00:31] INFO: ../src/tree/updater_prune.cc:101: tree pruning end, 1448 extra nodes, 0 pruned nodes, max_depth=10\n",
      "[15:00:46] INFO: ../src/tree/updater_prune.cc:101: tree pruning end, 1420 extra nodes, 0 pruned nodes, max_depth=10\n",
      "[15:01:01] INFO: ../src/tree/updater_prune.cc:101: tree pruning end, 1402 extra nodes, 0 pruned nodes, max_depth=10\n",
      "[15:01:15] INFO: ../src/tree/updater_prune.cc:101: tree pruning end, 1398 extra nodes, 0 pruned nodes, max_depth=10\n",
      "[15:01:30] INFO: ../src/tree/updater_prune.cc:101: tree pruning end, 1398 extra nodes, 0 pruned nodes, max_depth=10\n",
      "[15:01:46] INFO: ../src/tree/updater_prune.cc:101: tree pruning end, 1010 extra nodes, 0 pruned nodes, max_depth=10\n",
      "[15:02:05] INFO: ../src/tree/updater_prune.cc:101: tree pruning end, 986 extra nodes, 0 pruned nodes, max_depth=10\n",
      "[15:02:24] INFO: ../src/tree/updater_prune.cc:101: tree pruning end, 1098 extra nodes, 0 pruned nodes, max_depth=10\n",
      "[15:02:47] INFO: ../src/tree/updater_prune.cc:101: tree pruning end, 1038 extra nodes, 0 pruned nodes, max_depth=10\n",
      "[15:03:10] INFO: ../src/tree/updater_prune.cc:101: tree pruning end, 1054 extra nodes, 0 pruned nodes, max_depth=10\n",
      "[15:03:29] INFO: ../src/tree/updater_prune.cc:101: tree pruning end, 1052 extra nodes, 0 pruned nodes, max_depth=10\n",
      "[15:03:55] INFO: ../src/tree/updater_prune.cc:101: tree pruning end, 1252 extra nodes, 0 pruned nodes, max_depth=10\n",
      "[15:04:17] INFO: ../src/tree/updater_prune.cc:101: tree pruning end, 1094 extra nodes, 0 pruned nodes, max_depth=10\n",
      "[15:04:37] INFO: ../src/tree/updater_prune.cc:101: tree pruning end, 972 extra nodes, 0 pruned nodes, max_depth=10\n",
      "[15:04:55] INFO: ../src/tree/updater_prune.cc:101: tree pruning end, 1204 extra nodes, 0 pruned nodes, max_depth=10\n",
      "[15:05:15] INFO: ../src/tree/updater_prune.cc:101: tree pruning end, 960 extra nodes, 0 pruned nodes, max_depth=10\n",
      "[15:05:34] INFO: ../src/tree/updater_prune.cc:101: tree pruning end, 1072 extra nodes, 0 pruned nodes, max_depth=10\n",
      "[15:05:53] INFO: ../src/tree/updater_prune.cc:101: tree pruning end, 886 extra nodes, 0 pruned nodes, max_depth=10\n",
      "[15:06:11] INFO: ../src/tree/updater_prune.cc:101: tree pruning end, 1070 extra nodes, 0 pruned nodes, max_depth=10\n",
      "[15:06:38] INFO: ../src/tree/updater_prune.cc:101: tree pruning end, 1050 extra nodes, 0 pruned nodes, max_depth=10\n",
      "[15:07:00] INFO: ../src/tree/updater_prune.cc:101: tree pruning end, 1088 extra nodes, 0 pruned nodes, max_depth=10\n",
      "[15:07:31] INFO: ../src/tree/updater_prune.cc:101: tree pruning end, 1048 extra nodes, 0 pruned nodes, max_depth=10\n",
      "[15:08:01] INFO: ../src/tree/updater_prune.cc:101: tree pruning end, 880 extra nodes, 0 pruned nodes, max_depth=10\n",
      "[15:08:22] INFO: ../src/tree/updater_prune.cc:101: tree pruning end, 1028 extra nodes, 0 pruned nodes, max_depth=10\n",
      "[15:08:40] INFO: ../src/tree/updater_prune.cc:101: tree pruning end, 670 extra nodes, 0 pruned nodes, max_depth=10\n",
      "[15:09:00] INFO: ../src/tree/updater_prune.cc:101: tree pruning end, 834 extra nodes, 0 pruned nodes, max_depth=10\n",
      "[15:09:19] INFO: ../src/tree/updater_prune.cc:101: tree pruning end, 996 extra nodes, 0 pruned nodes, max_depth=10\n",
      "[15:09:38] INFO: ../src/tree/updater_prune.cc:101: tree pruning end, 992 extra nodes, 0 pruned nodes, max_depth=10\n",
      "[15:09:57] INFO: ../src/tree/updater_prune.cc:101: tree pruning end, 794 extra nodes, 0 pruned nodes, max_depth=10\n",
      "[15:10:17] INFO: ../src/tree/updater_prune.cc:101: tree pruning end, 962 extra nodes, 0 pruned nodes, max_depth=10\n",
      "[15:10:34] INFO: ../src/tree/updater_prune.cc:101: tree pruning end, 962 extra nodes, 0 pruned nodes, max_depth=10\n",
      "[15:10:50] INFO: ../src/tree/updater_prune.cc:101: tree pruning end, 654 extra nodes, 0 pruned nodes, max_depth=10\n",
      "[15:11:07] INFO: ../src/tree/updater_prune.cc:101: tree pruning end, 776 extra nodes, 0 pruned nodes, max_depth=10\n"
     ]
    },
    {
     "name": "stdout",
     "output_type": "stream",
     "text": [
      "[15:11:24] INFO: ../src/tree/updater_prune.cc:101: tree pruning end, 1000 extra nodes, 0 pruned nodes, max_depth=10\n",
      "[15:11:42] INFO: ../src/tree/updater_prune.cc:101: tree pruning end, 828 extra nodes, 0 pruned nodes, max_depth=10\n",
      "[15:12:04] INFO: ../src/tree/updater_prune.cc:101: tree pruning end, 738 extra nodes, 0 pruned nodes, max_depth=10\n",
      "[15:12:24] INFO: ../src/tree/updater_prune.cc:101: tree pruning end, 1302 extra nodes, 0 pruned nodes, max_depth=10\n",
      "[15:12:41] INFO: ../src/tree/updater_prune.cc:101: tree pruning end, 676 extra nodes, 0 pruned nodes, max_depth=10\n",
      "[15:13:00] INFO: ../src/tree/updater_prune.cc:101: tree pruning end, 1452 extra nodes, 0 pruned nodes, max_depth=10\n",
      "[15:13:19] INFO: ../src/tree/updater_prune.cc:101: tree pruning end, 1360 extra nodes, 0 pruned nodes, max_depth=10\n",
      "[15:13:36] INFO: ../src/tree/updater_prune.cc:101: tree pruning end, 996 extra nodes, 0 pruned nodes, max_depth=10\n",
      "[15:13:55] INFO: ../src/tree/updater_prune.cc:101: tree pruning end, 586 extra nodes, 0 pruned nodes, max_depth=10\n",
      "[15:14:15] INFO: ../src/tree/updater_prune.cc:101: tree pruning end, 1284 extra nodes, 0 pruned nodes, max_depth=10\n",
      "[15:14:36] INFO: ../src/tree/updater_prune.cc:101: tree pruning end, 1342 extra nodes, 0 pruned nodes, max_depth=10\n",
      "[15:14:54] INFO: ../src/tree/updater_prune.cc:101: tree pruning end, 884 extra nodes, 0 pruned nodes, max_depth=10\n",
      "[15:15:16] INFO: ../src/tree/updater_prune.cc:101: tree pruning end, 1028 extra nodes, 0 pruned nodes, max_depth=10\n",
      "[15:15:39] INFO: ../src/tree/updater_prune.cc:101: tree pruning end, 1128 extra nodes, 0 pruned nodes, max_depth=10\n",
      "[15:16:01] INFO: ../src/tree/updater_prune.cc:101: tree pruning end, 564 extra nodes, 0 pruned nodes, max_depth=10\n",
      "[15:16:25] INFO: ../src/tree/updater_prune.cc:101: tree pruning end, 1576 extra nodes, 0 pruned nodes, max_depth=10\n",
      "[15:16:47] INFO: ../src/tree/updater_prune.cc:101: tree pruning end, 552 extra nodes, 0 pruned nodes, max_depth=10\n",
      "[15:17:08] INFO: ../src/tree/updater_prune.cc:101: tree pruning end, 696 extra nodes, 0 pruned nodes, max_depth=10\n",
      "[15:17:26] INFO: ../src/tree/updater_prune.cc:101: tree pruning end, 848 extra nodes, 0 pruned nodes, max_depth=10\n",
      "[15:17:39] INFO: ../src/tree/updater_prune.cc:101: tree pruning end, 302 extra nodes, 0 pruned nodes, max_depth=10\n",
      "[15:17:58] INFO: ../src/tree/updater_prune.cc:101: tree pruning end, 756 extra nodes, 0 pruned nodes, max_depth=10\n",
      "[15:18:22] INFO: ../src/tree/updater_prune.cc:101: tree pruning end, 608 extra nodes, 0 pruned nodes, max_depth=10\n",
      "[15:18:46] INFO: ../src/tree/updater_prune.cc:101: tree pruning end, 1672 extra nodes, 0 pruned nodes, max_depth=10\n",
      "[15:19:06] INFO: ../src/tree/updater_prune.cc:101: tree pruning end, 554 extra nodes, 0 pruned nodes, max_depth=10\n",
      "[15:19:24] INFO: ../src/tree/updater_prune.cc:101: tree pruning end, 394 extra nodes, 0 pruned nodes, max_depth=10\n",
      "[15:19:43] INFO: ../src/tree/updater_prune.cc:101: tree pruning end, 1500 extra nodes, 0 pruned nodes, max_depth=10\n",
      "[15:20:04] INFO: ../src/tree/updater_prune.cc:101: tree pruning end, 1572 extra nodes, 0 pruned nodes, max_depth=10\n",
      "[15:20:22] INFO: ../src/tree/updater_prune.cc:101: tree pruning end, 516 extra nodes, 0 pruned nodes, max_depth=10\n",
      "[15:20:39] INFO: ../src/tree/updater_prune.cc:101: tree pruning end, 562 extra nodes, 0 pruned nodes, max_depth=10\n",
      "[15:20:39] ======== Monitor (0): Learner ========\n",
      "[15:20:39] Configure: 0.001303s, 1 calls @ 1303us\n",
      "\n",
      "[15:20:39] EvalOneIter: 0.000296s, 100 calls @ 296us\n",
      "\n",
      "[15:20:39] GetGradient: 1.62585s, 100 calls @ 1625854us\n",
      "\n",
      "[15:20:39] PredictRaw: 7.91113s, 100 calls @ 7911127us\n",
      "\n",
      "[15:20:39] UpdateOneIter: 1781.46s, 100 calls @ 1781459955us\n",
      "\n",
      "[15:20:39] ======== Monitor (0): GBTree ========\n",
      "[15:20:39] BoostNewTrees: 1771.92s, 100 calls @ 1771918111us\n",
      "\n",
      "[15:20:39] CommitModel: 6.5e-05s, 100 calls @ 65us\n",
      "\n",
      "[15:20:39] ======== Monitor (0): TreePruner ========\n",
      "[15:20:39] PrunerUpdate: 0.046764s, 100 calls @ 46764us\n",
      "\n",
      "[15:20:39] ======== Monitor (0): Learner ========\n",
      "[15:20:39] Configure: 0.000464s, 1 calls @ 464us\n",
      "\n",
      "[15:20:39] ======== Monitor (0): GBTree ========\n",
      "[15:20:39] ======== Monitor (0): TreePruner ========\n",
      "1783.4179985523224\n"
     ]
    }
   ],
   "source": [
    "start_time = time.time()\n",
    "estimator_all = estimator.fit(X_train,y_train)\n",
    "time_all =  time.time() - start_time\n",
    "print(time_all)"
   ]
  },
  {
   "cell_type": "code",
   "execution_count": 31,
   "id": "5682049c",
   "metadata": {},
   "outputs": [],
   "source": [
    "y_prob_all=estimator_all.predict_proba(X_test)\n",
    "y_pred_all=estimator_all.predict(X_test)"
   ]
  },
  {
   "cell_type": "code",
   "execution_count": 32,
   "id": "16556caf",
   "metadata": {},
   "outputs": [
    {
     "data": {
      "text/plain": [
       "array([[472630,  69139],\n",
       "       [127153, 331078]])"
      ]
     },
     "execution_count": 32,
     "metadata": {},
     "output_type": "execute_result"
    }
   ],
   "source": [
    "table = confusion_matrix(y_test, y_pred_all)\n",
    "table"
   ]
  },
  {
   "cell_type": "code",
   "execution_count": 33,
   "id": "b121121a",
   "metadata": {},
   "outputs": [
    {
     "name": "stdout",
     "output_type": "stream",
     "text": [
      "0.803708\n"
     ]
    }
   ],
   "source": [
    "accuracy_all = accuracy_score(y_pred_all, y_test)\n",
    "print(accuracy_all)"
   ]
  },
  {
   "cell_type": "code",
   "execution_count": 34,
   "id": "552ea49c",
   "metadata": {},
   "outputs": [
    {
     "name": "stdout",
     "output_type": "stream",
     "text": [
      "0.8770114956257324\n"
     ]
    }
   ],
   "source": [
    "roc_all = roc_auc_score(y_test,y_prob_all[:,1])\n",
    "print(roc_all)"
   ]
  },
  {
   "cell_type": "code",
   "execution_count": 35,
   "id": "10d5b8bd",
   "metadata": {},
   "outputs": [
    {
     "name": "stdout",
     "output_type": "stream",
     "text": [
      "[0.2764643  0.02193139 0.00209093 0.00518067 0.01717113 0.00207906\n",
      " 0.47750065 0.00214069 0.0140071  0.05155162 0.00996108 0.01392665\n",
      " 0.01404279 0.01734152 0.01733399 0.01301033 0.02095215 0.02331392]\n",
      "['lepton 1 pT', 'lepton 1 eta', 'lepton 1 phi', 'lepton 2 pT', 'lepton 2 eta', 'lepton 2 phi', 'missing energy magnitude', 'missing energy phi', 'MET_rel', 'axial MET', 'M_R', 'M_TR_2', 'R', 'MT2', 'S_R', 'M_Delta_R', 'dPhi_r_b', 'cos(theta_r1)']\n"
     ]
    }
   ],
   "source": [
    "print(estimator_all.feature_importances_)\n",
    "print(estimator_all.get_booster().feature_names)"
   ]
  },
  {
   "cell_type": "code",
   "execution_count": 36,
   "id": "fd146651",
   "metadata": {},
   "outputs": [
    {
     "data": {
      "image/png": "[encoded data removed]",
      "text/plain": [
       "<Figure size 432x288 with 1 Axes>"
      ]
     },
     "metadata": {
      "needs_background": "light"
     },
     "output_type": "display_data"
    }
   ],
   "source": [
    "indices = np.argsort(estimator_all.feature_importances_)\n",
    "plt.title('Feature Importances')\n",
    "plt.barh(range(len(indices)), estimator_all.feature_importances_[indices], color='b', align='center')\n",
    "plt.yticks(range(len(indices)), [estimator_all.get_booster().feature_names[i] for i in indices])\n",
    "plt.xlabel('Relative Importance')\n",
    "plt.show()"
   ]
  },
  {
   "cell_type": "code",
   "execution_count": null,
   "id": "1b48ec80",
   "metadata": {},
   "outputs": [],
   "source": []
  },
  {
   "cell_type": "code",
   "execution_count": null,
   "id": "c2d5ac46",
   "metadata": {},
   "outputs": [],
   "source": []
  }
 ],
 "metadata": {
  "kernelspec": {
   "display_name": "Python 3 (ipykernel)",
   "language": "python",
   "name": "python3"
  },
  "language_info": {
   "codemirror_mode": {
    "name": "ipython",
    "version": 3
   },
   "file_extension": ".py",
   "mimetype": "text/x-python",
   "name": "python",
   "nbconvert_exporter": "python",
   "pygments_lexer": "ipython3",
   "version": "3.8.10"
  }
 },
 "nbformat": 4,
 "nbformat_minor": 5
}
