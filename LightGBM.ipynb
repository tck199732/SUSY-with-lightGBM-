{
 "cells": [
  {
   "cell_type": "markdown",
   "id": "697febeb",
   "metadata": {},
   "source": [
    "# LightGBM "
   ]
  },
  {
   "cell_type": "markdown",
   "id": "d3bf2eb9",
   "metadata": {},
   "source": [
    "## 1. Import packages, loading and spliting data"
   ]
  },
  {
   "cell_type": "code",
   "execution_count": 1,
   "id": "432ad004",
   "metadata": {},
   "outputs": [],
   "source": [
    "import sys\n",
    "sys.path.append(\"jupy_env/lib/python3.8/site-packages\")\n",
    "!export PATH=/Library/TeX/texbin:$PATH\n",
    "import time\n",
    "import lightgbm as lgb\n",
    "from lightgbm import LGBMClassifier\n",
    "import numpy as np\n",
    "import pandas as pd\n",
    "\n",
    "from sklearn.model_selection import train_test_split\n",
    "from sklearn.metrics import accuracy_score\n",
    "from sklearn.metrics import roc_auc_score\n",
    "from sklearn.metrics import confusion_matrix\n",
    "from sklearn.metrics import roc_curve\n",
    "from sklearn import metrics\n",
    "\n",
    "import matplotlib.pyplot as plt\n",
    "%matplotlib inline\n"
   ]
  },
  {
   "cell_type": "code",
   "execution_count": 23,
   "id": "109a186d",
   "metadata": {},
   "outputs": [],
   "source": [
    "df = pd.read_csv(\"./data/SUSY.csv\", header=None)"
   ]
  },
  {
   "cell_type": "code",
   "execution_count": 24,
   "id": "5b9e1c82",
   "metadata": {},
   "outputs": [
    {
     "data": {
      "text/html": [
       "<div>\n",
       "<style scoped>\n",
       "    .dataframe tbody tr th:only-of-type {\n",
       "        vertical-align: middle;\n",
       "    }\n",
       "\n",
       "    .dataframe tbody tr th {\n",
       "        vertical-align: top;\n",
       "    }\n",
       "\n",
       "    .dataframe thead th {\n",
       "        text-align: right;\n",
       "    }\n",
       "</style>\n",
       "<table border=\"1\" class=\"dataframe\">\n",
       "  <thead>\n",
       "    <tr style=\"text-align: right;\">\n",
       "      <th></th>\n",
       "      <th>signal</th>\n",
       "      <th>lepton 1 pT</th>\n",
       "      <th>lepton 1 eta</th>\n",
       "      <th>lepton 1 phi</th>\n",
       "      <th>lepton 2 pT</th>\n",
       "      <th>lepton 2 eta</th>\n",
       "      <th>lepton 2 phi</th>\n",
       "      <th>missing energy magnitude</th>\n",
       "      <th>missing energy phi</th>\n",
       "      <th>MET_rel</th>\n",
       "      <th>axial MET</th>\n",
       "      <th>M_R</th>\n",
       "      <th>M_TR_2</th>\n",
       "      <th>R</th>\n",
       "      <th>MT2</th>\n",
       "      <th>S_R</th>\n",
       "      <th>M_Delta_R</th>\n",
       "      <th>dPhi_r_b</th>\n",
       "      <th>cos(theta_r1)</th>\n",
       "    </tr>\n",
       "  </thead>\n",
       "  <tbody>\n",
       "    <tr>\n",
       "      <th>0</th>\n",
       "      <td>0.0</td>\n",
       "      <td>0.972861</td>\n",
       "      <td>0.653855</td>\n",
       "      <td>1.176225</td>\n",
       "      <td>1.157156</td>\n",
       "      <td>-1.739873</td>\n",
       "      <td>-0.874309</td>\n",
       "      <td>0.567765</td>\n",
       "      <td>-0.175000</td>\n",
       "      <td>0.810061</td>\n",
       "      <td>-0.252552</td>\n",
       "      <td>1.921887</td>\n",
       "      <td>0.889637</td>\n",
       "      <td>0.410772</td>\n",
       "      <td>1.145621</td>\n",
       "      <td>1.932632</td>\n",
       "      <td>0.994464</td>\n",
       "      <td>1.367815</td>\n",
       "      <td>0.040714</td>\n",
       "    </tr>\n",
       "    <tr>\n",
       "      <th>1</th>\n",
       "      <td>1.0</td>\n",
       "      <td>1.667973</td>\n",
       "      <td>0.064191</td>\n",
       "      <td>-1.225171</td>\n",
       "      <td>0.506102</td>\n",
       "      <td>-0.338939</td>\n",
       "      <td>1.672543</td>\n",
       "      <td>3.475464</td>\n",
       "      <td>-1.219136</td>\n",
       "      <td>0.012955</td>\n",
       "      <td>3.775174</td>\n",
       "      <td>1.045977</td>\n",
       "      <td>0.568051</td>\n",
       "      <td>0.481928</td>\n",
       "      <td>0.000000</td>\n",
       "      <td>0.448410</td>\n",
       "      <td>0.205356</td>\n",
       "      <td>1.321893</td>\n",
       "      <td>0.377584</td>\n",
       "    </tr>\n",
       "    <tr>\n",
       "      <th>2</th>\n",
       "      <td>1.0</td>\n",
       "      <td>0.444840</td>\n",
       "      <td>-0.134298</td>\n",
       "      <td>-0.709972</td>\n",
       "      <td>0.451719</td>\n",
       "      <td>-1.613871</td>\n",
       "      <td>-0.768661</td>\n",
       "      <td>1.219918</td>\n",
       "      <td>0.504026</td>\n",
       "      <td>1.831248</td>\n",
       "      <td>-0.431385</td>\n",
       "      <td>0.526283</td>\n",
       "      <td>0.941514</td>\n",
       "      <td>1.587535</td>\n",
       "      <td>2.024308</td>\n",
       "      <td>0.603498</td>\n",
       "      <td>1.562374</td>\n",
       "      <td>1.135454</td>\n",
       "      <td>0.180910</td>\n",
       "    </tr>\n",
       "    <tr>\n",
       "      <th>3</th>\n",
       "      <td>1.0</td>\n",
       "      <td>0.381256</td>\n",
       "      <td>-0.976145</td>\n",
       "      <td>0.693152</td>\n",
       "      <td>0.448959</td>\n",
       "      <td>0.891753</td>\n",
       "      <td>-0.677328</td>\n",
       "      <td>2.033060</td>\n",
       "      <td>1.533041</td>\n",
       "      <td>3.046260</td>\n",
       "      <td>-1.005285</td>\n",
       "      <td>0.569386</td>\n",
       "      <td>1.015211</td>\n",
       "      <td>1.582217</td>\n",
       "      <td>1.551914</td>\n",
       "      <td>0.761215</td>\n",
       "      <td>1.715464</td>\n",
       "      <td>1.492257</td>\n",
       "      <td>0.090719</td>\n",
       "    </tr>\n",
       "    <tr>\n",
       "      <th>4</th>\n",
       "      <td>1.0</td>\n",
       "      <td>1.309996</td>\n",
       "      <td>-0.690089</td>\n",
       "      <td>-0.676259</td>\n",
       "      <td>1.589283</td>\n",
       "      <td>-0.693326</td>\n",
       "      <td>0.622907</td>\n",
       "      <td>1.087562</td>\n",
       "      <td>-0.381742</td>\n",
       "      <td>0.589204</td>\n",
       "      <td>1.365479</td>\n",
       "      <td>1.179295</td>\n",
       "      <td>0.968218</td>\n",
       "      <td>0.728563</td>\n",
       "      <td>0.000000</td>\n",
       "      <td>1.083158</td>\n",
       "      <td>0.043429</td>\n",
       "      <td>1.154854</td>\n",
       "      <td>0.094859</td>\n",
       "    </tr>\n",
       "  </tbody>\n",
       "</table>\n",
       "</div>"
      ],
      "text/plain": [
       "   signal  lepton 1 pT  lepton 1 eta  lepton 1 phi  lepton 2 pT  lepton 2 eta  \\\n",
       "0     0.0     0.972861      0.653855      1.176225     1.157156     -1.739873   \n",
       "1     1.0     1.667973      0.064191     -1.225171     0.506102     -0.338939   \n",
       "2     1.0     0.444840     -0.134298     -0.709972     0.451719     -1.613871   \n",
       "3     1.0     0.381256     -0.976145      0.693152     0.448959      0.891753   \n",
       "4     1.0     1.309996     -0.690089     -0.676259     1.589283     -0.693326   \n",
       "\n",
       "   lepton 2 phi  missing energy magnitude  missing energy phi   MET_rel  \\\n",
       "0     -0.874309                  0.567765           -0.175000  0.810061   \n",
       "1      1.672543                  3.475464           -1.219136  0.012955   \n",
       "2     -0.768661                  1.219918            0.504026  1.831248   \n",
       "3     -0.677328                  2.033060            1.533041  3.046260   \n",
       "4      0.622907                  1.087562           -0.381742  0.589204   \n",
       "\n",
       "   axial MET       M_R    M_TR_2         R       MT2       S_R  M_Delta_R  \\\n",
       "0  -0.252552  1.921887  0.889637  0.410772  1.145621  1.932632   0.994464   \n",
       "1   3.775174  1.045977  0.568051  0.481928  0.000000  0.448410   0.205356   \n",
       "2  -0.431385  0.526283  0.941514  1.587535  2.024308  0.603498   1.562374   \n",
       "3  -1.005285  0.569386  1.015211  1.582217  1.551914  0.761215   1.715464   \n",
       "4   1.365479  1.179295  0.968218  0.728563  0.000000  1.083158   0.043429   \n",
       "\n",
       "   dPhi_r_b  cos(theta_r1)  \n",
       "0  1.367815       0.040714  \n",
       "1  1.321893       0.377584  \n",
       "2  1.135454       0.180910  \n",
       "3  1.492257       0.090719  \n",
       "4  1.154854       0.094859  "
      ]
     },
     "execution_count": 24,
     "metadata": {},
     "output_type": "execute_result"
    }
   ],
   "source": [
    "columns=[\"signal\", \"lepton 1 pT\", \"lepton 1 eta\", \"lepton 1 phi\", \"lepton 2 pT\", \"lepton 2 eta\", \n",
    "         \"lepton 2 phi\", \"missing energy magnitude\", \"missing energy phi\", \"MET_rel\", \n",
    "         \"axial MET\", \"M_R\", \"M_TR_2\", \"R\", \"MT2\", \"S_R\", \"M_Delta_R\", \"dPhi_r_b\", \"cos(theta_r1)\"]\n",
    "\n",
    "df.columns = columns\n",
    "df.head(5)"
   ]
  },
  {
   "cell_type": "code",
   "execution_count": 25,
   "id": "6f568b5a",
   "metadata": {},
   "outputs": [],
   "source": [
    "X = df.iloc[:,1:]\n",
    "y = df.iloc[:,0]\n",
    "X_train, X_test, y_train, y_test = train_test_split(X, y, test_size=0.2, random_state=0)"
   ]
  },
  {
   "cell_type": "code",
   "execution_count": 26,
   "id": "5f4caaf3",
   "metadata": {},
   "outputs": [],
   "source": [
    "X_train_low = X_train.iloc[:,0:8]\n",
    "X_train_high = X_train.iloc[:,8:]\n",
    "X_test_low = X_test.iloc[:,0:8]\n",
    "X_test_high = X_test.iloc[:,8:]"
   ]
  },
  {
   "cell_type": "markdown",
   "id": "15d5a9d1",
   "metadata": {},
   "source": [
    "## 2. First look to the hyper-parameters"
   ]
  },
  {
   "cell_type": "code",
   "execution_count": null,
   "id": "06dbfeb0",
   "metadata": {},
   "outputs": [],
   "source": [
    "estimator = LGBMClassifier(boosting_type = \"gbdt\", objective = \"binary\",\n",
    "                           random_state=0, n_estimators = 100, num_leaves = 31, \n",
    "                           max_depth = 10, learning_rate = 0.1,\n",
    "                           max_bin = 500, metric = \"auc\"\n",
    "                          )\n",
    "\n",
    "estimator.get_params()"
   ]
  },
  {
   "cell_type": "markdown",
   "id": "abbad30b",
   "metadata": {},
   "source": [
    "### 2.1 Boosting Type\n",
    "The boosting type can be chosen to be \n",
    "1. \"gbdt\" -- traditional Gradient Boosting Decision Tree\n",
    "2. \"dart\" -- Dropouts meet Multiple Additive Regression Trees\n",
    "3. \"goss\" -- Gradient-based One-Side Sampling \n",
    "4. \"rf\" -- Random Forest.\n",
    "\n",
    "Due to time issue, I will focus on gradient boosting method and so only 1 boosting type will use."
   ]
  },
  {
   "cell_type": "markdown",
   "id": "7a655411",
   "metadata": {},
   "source": [
    "### 2.2 class_weight in LGBMClassifier"
   ]
  },
  {
   "cell_type": "markdown",
   "id": "cba4a489",
   "metadata": {},
   "source": [
    "The class_weight parameters can be set to \"is_unbalance\" and \"scale_pos_weight\" in a binary classfication problem. The \"balanced\" mode uses the values of y to automatically adjust weights inversely proportional to class frequencies in the input data. To see which mode to use, "
   ]
  },
  {
   "cell_type": "code",
   "execution_count": 27,
   "id": "062563b3",
   "metadata": {},
   "outputs": [
    {
     "name": "stdout",
     "output_type": "stream",
     "text": [
      "0.0    2170404\n",
      "1.0    1829596\n",
      "Name: signal, dtype: int64\n",
      "0.0    541769\n",
      "1.0    458231\n",
      "Name: signal, dtype: int64\n"
     ]
    }
   ],
   "source": [
    "print(y_train.value_counts())\n",
    "print(y_test.value_counts())"
   ]
  },
  {
   "cell_type": "markdown",
   "id": "bc924097",
   "metadata": {},
   "source": [
    "The number of class 0 and class 1 are roughly the same, thus later the default value \"None\" will be used in the parameter \"class weight\" to ensure that the weight of each sample to be 1. "
   ]
  },
  {
   "cell_type": "markdown",
   "id": "7f7e2e48",
   "metadata": {},
   "source": [
    "### 2.3 n_estimators and learning_rate\n",
    "\n",
    "The idea of boosting method is to iteratively build a new tree, \"add\" it to the original tree to correct the mis-classification in the previous step. The pararmeter n_estimators refer to the number of boosting tree in this iterative process. The learning_rate parameter controls the step size at each iteration while the loss-function approaches minima. To increase the accuracy, one should find the best combination of n_estimators and learning_rate. But intuitively a slower learning_rate means more accurate result as it runs all the points in the curve to find the minimum point. "
   ]
  },
  {
   "cell_type": "markdown",
   "id": "58726e3f",
   "metadata": {},
   "source": [
    "### 2.4 num_leaves and max_depth\n",
    "\n",
    "For these two parameters, I quote the description on the user manual of lightGBM.\n",
    "\n",
    "Theoretically, we can set num_leaves = 2^(max_depth) to obtain the same number of leaves as depth-wise tree. However, this simple conversion is not good in practice. The reason is that a leaf-wise tree is typically much deeper than a depth-wise tree for a fixed number of leaves. Unconstrained depth can induce over-fitting. Thus, when trying to tune the num_leaves, we should let it be smaller than 2^(max_depth). \n",
    "\n",
    "Hence, these two parameters will be determined using cross validation. "
   ]
  },
  {
   "cell_type": "markdown",
   "id": "5bc735f8",
   "metadata": {},
   "source": [
    "### 2.5 metric\n",
    "\n",
    "For binary classification problem, I followed the papar to use \"auc\" as the function to characterize the performance of the model in each iteration. One can invoke an additional parameter \"early-stopping\" to stop the training if the value of \"auc\" does not improve over a number of iterations. "
   ]
  },
  {
   "cell_type": "markdown",
   "id": "ee8e7b27",
   "metadata": {},
   "source": [
    "### 2.6 max_bins\n",
    "\n",
    "In lightGBM, the predictors distribution is not considered as continuous as in the usual boosting method. Instead, these distribution is treated as histogram and thus a maximum number of bins has to be set in advance. A high value of binning will potentially lead to over-fitting and a small value of binning will reduce the model to a continuous one, which would be much slower. (Side note: the use of histogram is natural in particle physics and nuclear physics) For starters, I will try to use the default value 255. "
   ]
  },
  {
   "cell_type": "markdown",
   "id": "aeddccc6",
   "metadata": {},
   "source": [
    "## 3. Trial analysis on the use of low-level, high-level and all predictors\n",
    "\n",
    "Initially, only the low-level predictors, which refer to the raw data measured by the detector (after converting signal to meaning quantities), are used in the analysis. However, there are no physics argument to link the source of the signal to these physical observables. As a result, the best we can do is to construct new observables based on the existing one and hoping that the response (y) would be sensitive to this new observables. As an example, the strength of electric force depends on the absolute distance between two points. If the raw data is the x,y,z coordinates of these two points, then we can easily calculate $r^2=x^2+y^2+z^2$ which immediates shows the expected relation."
   ]
  },
  {
   "cell_type": "markdown",
   "id": "9848ad05",
   "metadata": {},
   "source": [
    "Here, I follow the analysis in the paper and train the model in 3 cases:\n",
    "1. Use low-level predictors (first 8)\n",
    "2. Use high-level predictors (last 10)\n",
    "3. Use all predictors\n",
    "\n",
    "The author of the paper performs the analysis using deep learning and show that the result obtained by low-level is similar to that using all predictors. It is because the hidden layers in deep learning performs a similar job as constructing high-level predictors.\n",
    "\n",
    "In this study, I expect to see the best performance on the analysis using all predictors as there are no hidden layer here and thus all predictors provide the most information.\n"
   ]
  },
  {
   "cell_type": "code",
   "execution_count": 7,
   "id": "234bfec2",
   "metadata": {},
   "outputs": [],
   "source": [
    "estimator_low = LGBMClassifier(boosting_type = \"gbdt\", objective = \"binary\", \n",
    "                               random_state=0, n_estimators = 100, num_leaves = 31, \n",
    "                               max_depth = 10, learning_rate = 0.1,\n",
    "                               max_bin = 255, metric = \"auc\"\n",
    "                              )\n",
    "\n",
    "estimator_high = LGBMClassifier(boosting_type = \"gbdt\", objective = \"binary\", \n",
    "                               random_state=0, n_estimators = 100, num_leaves = 31, \n",
    "                               max_depth = 10, learning_rate = 0.1,\n",
    "                               max_bin = 255, metric = \"auc\"\n",
    "                              )\n",
    "\n",
    "estimator_all = LGBMClassifier(boosting_type = \"gbdt\", objective = \"binary\", \n",
    "                               random_state=0, n_estimators = 100, num_leaves = 31, \n",
    "                               max_depth = 10, learning_rate = 0.1,\n",
    "                               max_bin = 255, metric = \"auc\"\n",
    "                              )"
   ]
  },
  {
   "cell_type": "markdown",
   "id": "9eddb6ec",
   "metadata": {},
   "source": [
    "### 3.1 Using low-level features"
   ]
  },
  {
   "cell_type": "code",
   "execution_count": 8,
   "id": "64598bda",
   "metadata": {},
   "outputs": [
    {
     "name": "stdout",
     "output_type": "stream",
     "text": [
      "--- 345.41710138320923 seconds ---\n"
     ]
    },
    {
     "data": {
      "text/plain": [
       "array([[467067,  74702],\n",
       "       [137064, 321167]])"
      ]
     },
     "execution_count": 8,
     "metadata": {},
     "output_type": "execute_result"
    }
   ],
   "source": [
    "start_time = time.time()\n",
    "\n",
    "estimator_low = estimator_low.fit(X_train_low, y_train)\n",
    "\n",
    "training_time_low = time.time() - start_time\n",
    "\n",
    "print(\"--- %s seconds ---\" % (training_time_low))\n",
    "\n",
    "y_pred_low = estimator_low.predict(X_test_low)\n",
    "y_prob_low = estimator_low.predict_proba(X_test_low)\n",
    "table_low = confusion_matrix(y_test, y_pred_low)\n",
    "table_low"
   ]
  },
  {
   "cell_type": "code",
   "execution_count": 9,
   "id": "306fc73d",
   "metadata": {},
   "outputs": [
    {
     "name": "stdout",
     "output_type": "stream",
     "text": [
      "0.788234\n",
      "0.8608757743142309\n",
      "[674 641  24 422 604  48 549  38]\n",
      "['lepton_1_pT', 'lepton_1_eta', 'lepton_1_phi', 'lepton_2_pT', 'lepton_2_eta', 'lepton_2_phi', 'missing_energy_magnitude', 'missing_energy_phi']\n"
     ]
    }
   ],
   "source": [
    "accuracy_low = accuracy_score(y_pred_low, y_test)\n",
    "print(accuracy_low)\n",
    "roc_low = roc_auc_score(y_test, y_prob_low[:,1])\n",
    "print(roc_low)\n",
    "print(estimator_low.feature_importances_)\n",
    "print(estimator_low.feature_name_)"
   ]
  },
  {
   "cell_type": "code",
   "execution_count": 10,
   "id": "6a8c8934",
   "metadata": {},
   "outputs": [
    {
     "data": {
      "image/png": "[encoded data removed]",
      "text/plain": [
       "<Figure size 432x288 with 1 Axes>"
      ]
     },
     "metadata": {
      "needs_background": "light"
     },
     "output_type": "display_data"
    }
   ],
   "source": [
    "indices = np.argsort(estimator_low.feature_importances_)\n",
    "plt.title('LightGBM Feature Importances')\n",
    "plt.barh(range(len(indices)), estimator_low.feature_importances_[indices]/sum(estimator_low.feature_importances_), color='b', align='center')\n",
    "plt.yticks(range(len(indices)), [estimator_low.feature_name_[i] for i in indices])\n",
    "plt.xlabel('Relative Importance')\n",
    "plt.show()"
   ]
  },
  {
   "cell_type": "markdown",
   "id": "ac7c30d0",
   "metadata": {},
   "source": [
    "### 3.2 Using high-level features"
   ]
  },
  {
   "cell_type": "code",
   "execution_count": 11,
   "id": "523b8952",
   "metadata": {},
   "outputs": [
    {
     "name": "stdout",
     "output_type": "stream",
     "text": [
      "--- 405.25259923934937 seconds ---\n"
     ]
    },
    {
     "data": {
      "text/plain": [
       "array([[470474,  71295],\n",
       "       [136102, 322129]])"
      ]
     },
     "execution_count": 11,
     "metadata": {},
     "output_type": "execute_result"
    }
   ],
   "source": [
    "start_time = time.time()\n",
    "\n",
    "estimator_high = estimator_high.fit(X_train_high, y_train)\n",
    "\n",
    "training_time_high = time.time() - start_time\n",
    "\n",
    "print(\"--- %s seconds ---\" % (training_time_high))\n",
    "\n",
    "y_pred_high = estimator_high.predict(X_test_high)\n",
    "y_prob_high = estimator_high.predict_proba(X_test_high)\n",
    "table_high = confusion_matrix(y_test, y_pred_high)\n",
    "table_high"
   ]
  },
  {
   "cell_type": "code",
   "execution_count": 12,
   "id": "0c41b3ae",
   "metadata": {},
   "outputs": [
    {
     "name": "stdout",
     "output_type": "stream",
     "text": [
      "0.792603\n",
      "0.8633505349968046\n",
      "[359 656 148 302 282 327 119 248 326 233]\n",
      "['MET_rel', 'axial_MET', 'M_R', 'M_TR_2', 'R', 'MT2', 'S_R', 'M_Delta_R', 'dPhi_r_b', 'cos(theta_r1)']\n"
     ]
    }
   ],
   "source": [
    "accuracy_high = accuracy_score(y_pred_high, y_test)\n",
    "print(accuracy_high)\n",
    "roc_high = roc_auc_score(y_test, y_prob_high[:,1])\n",
    "print(roc_high)\n",
    "print(estimator_high.feature_importances_)\n",
    "print(estimator_high.feature_name_)"
   ]
  },
  {
   "cell_type": "code",
   "execution_count": 13,
   "id": "53399836",
   "metadata": {},
   "outputs": [
    {
     "data": {
      "image/png": "[encoded data removed]",
      "text/plain": [
       "<Figure size 432x288 with 1 Axes>"
      ]
     },
     "metadata": {
      "needs_background": "light"
     },
     "output_type": "display_data"
    }
   ],
   "source": [
    "indices = np.argsort(estimator_high.feature_importances_)\n",
    "plt.title('LightGBM Feature Importances')\n",
    "plt.barh(range(len(indices)), estimator_high.feature_importances_[indices]/sum(estimator_high.feature_importances_), color='b', align='center')\n",
    "plt.yticks(range(len(indices)), [estimator_high.feature_name_[i] for i in indices])\n",
    "plt.xlabel('relaive Importance')\n",
    "plt.show()"
   ]
  },
  {
   "cell_type": "markdown",
   "id": "644efb85",
   "metadata": {},
   "source": [
    "### 3.3 Using all features"
   ]
  },
  {
   "cell_type": "code",
   "execution_count": 14,
   "id": "f78dea60",
   "metadata": {},
   "outputs": [
    {
     "name": "stdout",
     "output_type": "stream",
     "text": [
      "--- 384.40007424354553 seconds ---\n"
     ]
    },
    {
     "data": {
      "text/plain": [
       "array([[473039,  68730],\n",
       "       [129010, 329221]])"
      ]
     },
     "execution_count": 14,
     "metadata": {},
     "output_type": "execute_result"
    }
   ],
   "source": [
    "start_time = time.time()\n",
    "\n",
    "estimator_all = estimator_all.fit(X_train, y_train)\n",
    "\n",
    "training_time_all = time.time() - start_time\n",
    "\n",
    "print(\"--- %s seconds ---\" % (training_time_all))\n",
    "\n",
    "y_pred_all = estimator_all.predict(X_test)\n",
    "y_prob_all = estimator_all.predict_proba(X_test)\n",
    "table_all = confusion_matrix(y_test, y_pred_all)\n",
    "table_all"
   ]
  },
  {
   "cell_type": "code",
   "execution_count": 15,
   "id": "52620ac9",
   "metadata": {},
   "outputs": [
    {
     "name": "stdout",
     "output_type": "stream",
     "text": [
      "0.80226\n",
      "0.875505000377846\n",
      "[232 302   0  89 234   0 356   0 178 388 120 116  86 244 182 170 220  83]\n",
      "['lepton_1_pT', 'lepton_1_eta', 'lepton_1_phi', 'lepton_2_pT', 'lepton_2_eta', 'lepton_2_phi', 'missing_energy_magnitude', 'missing_energy_phi', 'MET_rel', 'axial_MET', 'M_R', 'M_TR_2', 'R', 'MT2', 'S_R', 'M_Delta_R', 'dPhi_r_b', 'cos(theta_r1)']\n"
     ]
    }
   ],
   "source": [
    "accuracy_all = accuracy_score(y_pred_all, y_test)\n",
    "print(accuracy_all)\n",
    "roc_all = roc_auc_score(y_test, y_prob_all[:,1])\n",
    "print(roc_all)\n",
    "print(estimator_all.feature_importances_)\n",
    "print(estimator_all.feature_name_)"
   ]
  },
  {
   "cell_type": "code",
   "execution_count": 16,
   "id": "187fba98",
   "metadata": {},
   "outputs": [
    {
     "data": {
      "image/png": "[encoded data removed]",
      "text/plain": [
       "<Figure size 432x288 with 1 Axes>"
      ]
     },
     "metadata": {
      "needs_background": "light"
     },
     "output_type": "display_data"
    }
   ],
   "source": [
    "indices = np.argsort(estimator_all.feature_importances_)\n",
    "plt.title('LightGBM Feature Importances')\n",
    "plt.barh(range(len(indices)), estimator_all.feature_importances_[indices]/sum(estimator_all.feature_importances_), color='b', align='center')\n",
    "plt.yticks(range(len(indices)), [estimator_all.feature_name_[i] for i in indices])\n",
    "plt.xlabel('relative Importance')\n",
    "plt.show()"
   ]
  },
  {
   "cell_type": "code",
   "execution_count": 17,
   "id": "b884c431",
   "metadata": {},
   "outputs": [
    {
     "name": "stderr",
     "output_type": "stream",
     "text": [
      "/home/kin/.local/lib/python3.8/site-packages/IPython/core/pylabtools.py:151: UserWarning: Creating legend with loc=\"best\" can be slow with large amounts of data.\n",
      "  fig.canvas.print_figure(bytes_io, **kw)\n"
     ]
    },
    {
     "data": {
      "image/png": "[encoded data removed]",
      "text/plain": [
       "<Figure size 432x288 with 1 Axes>"
      ]
     },
     "metadata": {
      "needs_background": "light"
     },
     "output_type": "display_data"
    }
   ],
   "source": [
    "\n",
    "\n",
    "fpr, tpr, thresholds = metrics.roc_curve(y_test, y_prob_all[:,1])\n",
    "roc_auc = metrics.auc(fpr, tpr)\n",
    "\n",
    "fpr_low, tpr_low, thresholds_low = metrics.roc_curve(y_test, y_prob_low[:,1])\n",
    "roc_auc_low = metrics.auc(fpr_low, tpr_low)\n",
    "\n",
    "fpr_high, tpr_high, thresholds_high = metrics.roc_curve(y_test, y_prob_high[:,1])\n",
    "roc_auc_high = metrics.auc(fpr_high, tpr_high)\n",
    "\n",
    "\n",
    "plt.plot(np.asarray(tpr_low),1-np.asanyarray(fpr_low), label=\"low\", color=\"blue\", )\n",
    "plt.plot(np.asarray(tpr_high),1-np.asanyarray(fpr_high), label=\"high\", color=\"green\")\n",
    "plt.plot(np.asarray(tpr),1-np.asanyarray(fpr), label=\"all\", color=\"red\")\n",
    "\n",
    "plt.text(0.1, 0.3, \"auc_low ={auc:.3f}\".format(auc=roc_low), horizontalalignment='left',\n",
    "         verticalalignment='center', color=\"blue\")\n",
    "plt.text(0.1, 0.2, \"auc_high ={auc:.3f}\".format(auc=roc_high), horizontalalignment='left',\n",
    "         verticalalignment='center', color=\"green\")\n",
    "plt.text(0.1, 0.1, \"auc_all ={auc:.3f}\".format(auc=roc_all), horizontalalignment='left',\n",
    "         verticalalignment='center', color=\"red\")\n",
    "\n",
    "plt.xlabel(\"Signal Efficiency\")\n",
    "plt.ylabel(\"Background Rejection\")\n",
    "plt.legend()\n",
    "plt.show()\n"
   ]
  },
  {
   "cell_type": "markdown",
   "id": "1fec9e0b",
   "metadata": {},
   "source": [
    "## 4. Parameter tunning "
   ]
  },
  {
   "cell_type": "markdown",
   "id": "829f6fc7",
   "metadata": {},
   "source": [
    "### 4.1 Tunning num_leaves and max_depth"
   ]
  },
  {
   "cell_type": "code",
   "execution_count": 31,
   "id": "88b7dc64",
   "metadata": {},
   "outputs": [],
   "source": [
    "from sklearn.model_selection import GridSearchCV\n",
    "from sklearn.model_selection import RandomizedSearchCV\n",
    "\n",
    "estimator = LGBMClassifier(boosting_type = \"gbdt\", objective = \"binary\", \n",
    "                           random_state=0, n_estimators = 100, metric = \"auc\"\n",
    "                          )"
   ]
  },
  {
   "cell_type": "code",
   "execution_count": 32,
   "id": "7dae8f25",
   "metadata": {},
   "outputs": [],
   "source": [
    "#\"learning_rate\": [0.01,0.1,0.5], \"n_estimators\": [100, 300],\n",
    "grid_params = {\n",
    "                   \n",
    "                   \"num_leaves\": [5,10,15], \"max_depth\": [10,12,20]\n",
    "              }"
   ]
  },
  {
   "cell_type": "code",
   "execution_count": 33,
   "id": "0ff4af00",
   "metadata": {},
   "outputs": [
    {
     "name": "stdout",
     "output_type": "stream",
     "text": [
      "Fitting 5 folds for each of 9 candidates, totalling 45 fits\n"
     ]
    },
    {
     "name": "stderr",
     "output_type": "stream",
     "text": [
      "[Parallel(n_jobs=-4)]: Using backend LokyBackend with 5 concurrent workers.\n",
      "[Parallel(n_jobs=-4)]: Done  15 tasks      | elapsed:  3.8min\n"
     ]
    },
    {
     "name": "stdout",
     "output_type": "stream",
     "text": [
      "[CV] max_depth=10, num_leaves=5 ......................................\n",
      "[CV] .......... max_depth=10, num_leaves=5, score=0.797, total= 1.1min\n",
      "[CV] max_depth=10, num_leaves=10 .....................................\n",
      "[CV] ......... max_depth=10, num_leaves=10, score=0.800, total= 1.2min\n",
      "[CV] max_depth=10, num_leaves=15 .....................................\n",
      "[CV] ......... max_depth=10, num_leaves=15, score=0.801, total= 1.4min\n",
      "[CV] max_depth=12, num_leaves=5 ......................................\n",
      "[CV] .......... max_depth=12, num_leaves=5, score=0.797, total=  57.7s\n"
     ]
    },
    {
     "name": "stderr",
     "output_type": "stream",
     "text": [
      "/usr/lib/python3/dist-packages/joblib/externals/loky/process_executor.py:703: UserWarning: A worker stopped while some jobs were given to the executor. This can be caused by a too short worker timeout or by a memory leak.\n",
      "  warnings.warn(\n"
     ]
    },
    {
     "name": "stdout",
     "output_type": "stream",
     "text": [
      "[CV] max_depth=10, num_leaves=5 ......................................\n",
      "[CV] .......... max_depth=10, num_leaves=5, score=0.797, total=  52.7s\n",
      "[CV] max_depth=10, num_leaves=10 .....................................\n",
      "[CV] ......... max_depth=10, num_leaves=10, score=0.800, total= 1.3min\n",
      "[CV] max_depth=10, num_leaves=15 .....................................\n",
      "[CV] ......... max_depth=10, num_leaves=15, score=0.801, total= 1.5min\n",
      "[CV] max_depth=12, num_leaves=5 ......................................\n",
      "[CV] .......... max_depth=12, num_leaves=5, score=0.797, total=  55.1s\n",
      "[CV] max_depth=12, num_leaves=10 .....................................\n",
      "[CV] ......... max_depth=12, num_leaves=10, score=0.800, total=  59.3s\n",
      "[CV] max_depth=12, num_leaves=15 .....................................\n",
      "[CV] ......... max_depth=12, num_leaves=15, score=0.801, total= 1.1min\n",
      "[CV] max_depth=20, num_leaves=5 ......................................\n",
      "[CV] .......... max_depth=20, num_leaves=5, score=0.797, total=  46.8s\n"
     ]
    },
    {
     "name": "stderr",
     "output_type": "stream",
     "text": [
      "[Parallel(n_jobs=-4)]: Done  45 out of  45 | elapsed: 10.5min finished\n"
     ]
    },
    {
     "name": "stdout",
     "output_type": "stream",
     "text": [
      "--- 666.7099778652191 seconds ---\n",
      "[CV] max_depth=12, num_leaves=10 .....................................\n",
      "[CV] ......... max_depth=12, num_leaves=10, score=0.800, total= 1.3min\n",
      "[CV] max_depth=12, num_leaves=15 .....................................\n",
      "[CV] ......... max_depth=12, num_leaves=15, score=0.800, total= 1.1min\n",
      "[CV] max_depth=20, num_leaves=10 .....................................\n",
      "[CV] ......... max_depth=20, num_leaves=10, score=0.800, total= 1.1min\n",
      "[CV] max_depth=20, num_leaves=15 .....................................\n",
      "[CV] ......... max_depth=20, num_leaves=15, score=0.801, total= 1.2min\n",
      "[CV] max_depth=20, num_leaves=10 .....................................\n",
      "[CV] ......... max_depth=20, num_leaves=10, score=0.800, total= 1.0min\n",
      "[CV] max_depth=20, num_leaves=15 .....................................\n",
      "[CV] ......... max_depth=20, num_leaves=15, score=0.801, total= 1.3min\n",
      "[CV] max_depth=10, num_leaves=5 ......................................\n",
      "[CV] .......... max_depth=10, num_leaves=5, score=0.798, total=  49.8s\n",
      "[CV] max_depth=10, num_leaves=10 .....................................\n",
      "[CV] ......... max_depth=10, num_leaves=10, score=0.800, total= 1.2min\n",
      "[CV] max_depth=10, num_leaves=15 .....................................\n",
      "[CV] ......... max_depth=10, num_leaves=15, score=0.801, total= 1.5min\n",
      "[CV] max_depth=12, num_leaves=5 ......................................\n",
      "[CV] .......... max_depth=12, num_leaves=5, score=0.798, total=  59.1s\n",
      "[CV] max_depth=12, num_leaves=10 .....................................\n",
      "[CV] ......... max_depth=12, num_leaves=10, score=0.800, total=  58.7s\n",
      "[CV] max_depth=12, num_leaves=15 .....................................\n",
      "[CV] ......... max_depth=12, num_leaves=15, score=0.801, total= 1.4min\n",
      "[CV] max_depth=20, num_leaves=5 ......................................\n",
      "[CV] .......... max_depth=20, num_leaves=5, score=0.798, total=  50.2s\n",
      "[CV] max_depth=20, num_leaves=10 .....................................\n",
      "[CV] ......... max_depth=20, num_leaves=10, score=0.800, total= 1.5min\n",
      "[CV] max_depth=20, num_leaves=15 .....................................\n",
      "[CV] ......... max_depth=20, num_leaves=15, score=0.801, total= 1.1min\n",
      "[CV] max_depth=10, num_leaves=5 ......................................\n",
      "[CV] .......... max_depth=10, num_leaves=5, score=0.797, total=  50.6s\n",
      "[CV] max_depth=10, num_leaves=10 .....................................\n",
      "[CV] ......... max_depth=10, num_leaves=10, score=0.800, total= 1.3min\n",
      "[CV] max_depth=10, num_leaves=15 .....................................\n",
      "[CV] ......... max_depth=10, num_leaves=15, score=0.801, total= 1.2min\n",
      "[CV] max_depth=12, num_leaves=5 ......................................\n",
      "[CV] .......... max_depth=12, num_leaves=5, score=0.797, total=  49.8s\n",
      "[CV] max_depth=12, num_leaves=10 .....................................\n",
      "[CV] ......... max_depth=12, num_leaves=10, score=0.800, total=  57.9s\n",
      "[CV] max_depth=12, num_leaves=15 .....................................\n",
      "[CV] ......... max_depth=12, num_leaves=15, score=0.801, total= 1.1min\n",
      "[CV] max_depth=20, num_leaves=5 ......................................\n",
      "[CV] .......... max_depth=20, num_leaves=5, score=0.797, total=  49.0s\n",
      "[CV] max_depth=20, num_leaves=5 ......................................\n",
      "[CV] .......... max_depth=20, num_leaves=5, score=0.797, total= 1.1min\n",
      "[CV] max_depth=20, num_leaves=10 .....................................\n",
      "[CV] ......... max_depth=20, num_leaves=10, score=0.800, total= 1.1min\n",
      "[CV] max_depth=20, num_leaves=15 .....................................\n",
      "[CV] ......... max_depth=20, num_leaves=15, score=0.801, total= 1.1min\n",
      "[CV] max_depth=10, num_leaves=5 ......................................\n",
      "[CV] .......... max_depth=10, num_leaves=5, score=0.797, total= 1.1min\n",
      "[CV] max_depth=10, num_leaves=10 .....................................\n",
      "[CV] ......... max_depth=10, num_leaves=10, score=0.800, total= 1.2min\n",
      "[CV] max_depth=10, num_leaves=15 .....................................\n",
      "[CV] ......... max_depth=10, num_leaves=15, score=0.801, total= 1.2min\n",
      "[CV] max_depth=12, num_leaves=5 ......................................\n",
      "[CV] .......... max_depth=12, num_leaves=5, score=0.797, total=  53.0s\n",
      "[CV] max_depth=12, num_leaves=10 .....................................\n",
      "[CV] ......... max_depth=12, num_leaves=10, score=0.800, total= 1.4min\n",
      "[CV] max_depth=12, num_leaves=15 .....................................\n",
      "[CV] ......... max_depth=12, num_leaves=15, score=0.801, total= 1.5min\n",
      "[CV] max_depth=20, num_leaves=5 ......................................\n",
      "[CV] .......... max_depth=20, num_leaves=5, score=0.797, total=  50.4s\n",
      "[CV] max_depth=20, num_leaves=10 .....................................\n",
      "[CV] ......... max_depth=20, num_leaves=10, score=0.800, total= 1.2min\n",
      "[CV] max_depth=20, num_leaves=15 .....................................\n",
      "[CV] ......... max_depth=20, num_leaves=15, score=0.800, total= 1.2min\n"
     ]
    }
   ],
   "source": [
    "start_time = time.time()\n",
    "grid = GridSearchCV(estimator, param_grid=grid_params, verbose=4, cv=5, n_jobs=-4)\n",
    "grid.fit(X_train, y_train)\n",
    "grid_time = time.time() - start_time\n",
    "print(\"--- %s seconds ---\" % (grid_time))"
   ]
  },
  {
   "cell_type": "code",
   "execution_count": 34,
   "id": "3a154114",
   "metadata": {},
   "outputs": [
    {
     "name": "stdout",
     "output_type": "stream",
     "text": [
      "{'max_depth': 10, 'num_leaves': 15}\n",
      "0.80110025\n"
     ]
    }
   ],
   "source": [
    "print(grid.best_params_)\n",
    "print(grid.best_score_)"
   ]
  },
  {
   "cell_type": "markdown",
   "id": "4e25de7d",
   "metadata": {},
   "source": [
    "Running CV search, it is seen that the best combination of the parameters \"max_depth\" and \"num_leaves\" is 10 and 15 respectively. Because of the runtime issue, the CV search for best hyperparameters will be divided in several steps. First serach for \"max_depth\" and \"num_leaves\", then use the best combination of this two hyperparameters and search for the best of other parameters."
   ]
  },
  {
   "cell_type": "code",
   "execution_count": 35,
   "id": "6deeff63",
   "metadata": {},
   "outputs": [],
   "source": [
    "refined_estimator = LGBMClassifier(boosting_type = \"gbdt\", objective = \"binary\", \n",
    "                           random_state=0, metric = \"auc\", \n",
    "                           max_depth = 10, num_leaves = 15\n",
    "                          )"
   ]
  },
  {
   "cell_type": "code",
   "execution_count": 36,
   "id": "0166b578",
   "metadata": {},
   "outputs": [],
   "source": [
    "grid_params = {\n",
    "                   \n",
    "                   \"learning_rate\": [0.01,0.1,0.5], \"n_estimators\": [100, 200, 300],\n",
    "              }"
   ]
  },
  {
   "cell_type": "code",
   "execution_count": 37,
   "id": "c5d2571e",
   "metadata": {},
   "outputs": [
    {
     "name": "stdout",
     "output_type": "stream",
     "text": [
      "Fitting 5 folds for each of 9 candidates, totalling 45 fits\n"
     ]
    },
    {
     "name": "stderr",
     "output_type": "stream",
     "text": [
      "[Parallel(n_jobs=-4)]: Using backend LokyBackend with 5 concurrent workers.\n"
     ]
    },
    {
     "name": "stdout",
     "output_type": "stream",
     "text": [
      "[CV] learning_rate=0.01, n_estimators=100 ............................\n",
      "[CV]  learning_rate=0.01, n_estimators=100, score=0.785, total= 1.2min\n",
      "[CV] learning_rate=0.01, n_estimators=200 ............................\n",
      "[CV]  learning_rate=0.01, n_estimators=200, score=0.792, total= 2.4min\n"
     ]
    },
    {
     "name": "stderr",
     "output_type": "stream",
     "text": [
      "/usr/lib/python3/dist-packages/joblib/externals/loky/process_executor.py:703: UserWarning: A worker stopped while some jobs were given to the executor. This can be caused by a too short worker timeout or by a memory leak.\n",
      "  warnings.warn(\n"
     ]
    },
    {
     "name": "stdout",
     "output_type": "stream",
     "text": [
      "[CV] learning_rate=0.01, n_estimators=100 ............................\n",
      "[CV]  learning_rate=0.01, n_estimators=100, score=0.785, total= 1.5min\n",
      "[CV] learning_rate=0.01, n_estimators=200 ............................\n",
      "[CV]  learning_rate=0.01, n_estimators=200, score=0.792, total= 2.2min\n",
      "[CV] learning_rate=0.01, n_estimators=100 ............................\n",
      "[CV]  learning_rate=0.01, n_estimators=100, score=0.784, total= 1.2min\n",
      "[CV] learning_rate=0.01, n_estimators=200 ............................\n",
      "[CV]  learning_rate=0.01, n_estimators=200, score=0.792, total= 2.2min\n",
      "[CV] learning_rate=0.01, n_estimators=300 ............................\n",
      "[CV]  learning_rate=0.01, n_estimators=300, score=0.795, total= 3.1min\n"
     ]
    },
    {
     "name": "stderr",
     "output_type": "stream",
     "text": [
      "[Parallel(n_jobs=-4)]: Done  15 tasks      | elapsed:  7.9min\n"
     ]
    },
    {
     "name": "stdout",
     "output_type": "stream",
     "text": [
      "[CV] learning_rate=0.01, n_estimators=100 ............................\n",
      "[CV]  learning_rate=0.01, n_estimators=100, score=0.784, total= 1.2min\n",
      "[CV] learning_rate=0.01, n_estimators=200 ............................\n",
      "[CV]  learning_rate=0.01, n_estimators=200, score=0.792, total= 2.7min\n",
      "[CV] learning_rate=0.01, n_estimators=300 ............................\n",
      "[CV]  learning_rate=0.01, n_estimators=300, score=0.795, total= 4.4min\n",
      "[CV] learning_rate=0.01, n_estimators=300 ............................\n",
      "[CV]  learning_rate=0.01, n_estimators=300, score=0.795, total= 4.0min\n",
      "[CV] learning_rate=0.1, n_estimators=100 .............................\n",
      "[CV] . learning_rate=0.1, n_estimators=100, score=0.801, total= 1.1min\n",
      "[CV] learning_rate=0.1, n_estimators=200 .............................\n",
      "[CV] . learning_rate=0.1, n_estimators=200, score=0.802, total= 1.9min\n",
      "[CV] learning_rate=0.1, n_estimators=300 .............................\n",
      "[CV] . learning_rate=0.1, n_estimators=300, score=0.803, total= 2.6min\n"
     ]
    },
    {
     "name": "stderr",
     "output_type": "stream",
     "text": [
      "[Parallel(n_jobs=-4)]: Done  45 out of  45 | elapsed: 18.5min finished\n"
     ]
    },
    {
     "name": "stdout",
     "output_type": "stream",
     "text": [
      "--- 1163.2760672569275 seconds ---\n",
      "[CV] learning_rate=0.01, n_estimators=300 ............................\n",
      "[CV]  learning_rate=0.01, n_estimators=300, score=0.795, total= 3.0min\n",
      "[CV] learning_rate=0.1, n_estimators=100 .............................\n",
      "[CV] . learning_rate=0.1, n_estimators=100, score=0.801, total= 1.2min\n",
      "[CV] learning_rate=0.1, n_estimators=200 .............................\n",
      "[CV] . learning_rate=0.1, n_estimators=200, score=0.802, total= 2.9min\n",
      "[CV] learning_rate=0.1, n_estimators=300 .............................\n",
      "[CV] . learning_rate=0.1, n_estimators=300, score=0.803, total= 2.6min\n",
      "[CV] learning_rate=0.5, n_estimators=100 .............................\n",
      "[CV] . learning_rate=0.5, n_estimators=100, score=0.802, total= 1.1min\n",
      "[CV] learning_rate=0.5, n_estimators=200 .............................\n",
      "[CV] . learning_rate=0.5, n_estimators=200, score=0.802, total= 1.5min\n",
      "[CV] learning_rate=0.5, n_estimators=300 .............................\n",
      "[CV] . learning_rate=0.5, n_estimators=300, score=0.802, total= 1.8min\n",
      "[CV] learning_rate=0.1, n_estimators=200 .............................\n",
      "[CV] . learning_rate=0.1, n_estimators=200, score=0.802, total= 2.6min\n",
      "[CV] learning_rate=0.1, n_estimators=300 .............................\n",
      "[CV] . learning_rate=0.1, n_estimators=300, score=0.802, total= 3.4min\n",
      "[CV] learning_rate=0.5, n_estimators=200 .............................\n",
      "[CV] . learning_rate=0.5, n_estimators=200, score=0.802, total= 1.4min\n",
      "[CV] learning_rate=0.5, n_estimators=300 .............................\n",
      "[CV] . learning_rate=0.5, n_estimators=300, score=0.802, total= 2.4min\n",
      "[CV] learning_rate=0.1, n_estimators=100 .............................\n",
      "[CV] . learning_rate=0.1, n_estimators=100, score=0.801, total= 1.1min\n",
      "[CV] learning_rate=0.1, n_estimators=100 .............................\n",
      "[CV] . learning_rate=0.1, n_estimators=100, score=0.801, total= 1.1min\n",
      "[CV] learning_rate=0.1, n_estimators=200 .............................\n",
      "[CV] . learning_rate=0.1, n_estimators=200, score=0.803, total= 2.0min\n",
      "[CV] learning_rate=0.1, n_estimators=300 .............................\n",
      "[CV] . learning_rate=0.1, n_estimators=300, score=0.803, total= 2.6min\n",
      "[CV] learning_rate=0.5, n_estimators=100 .............................\n",
      "[CV] . learning_rate=0.5, n_estimators=100, score=0.802, total=  51.5s\n",
      "[CV] learning_rate=0.5, n_estimators=100 .............................\n",
      "[CV] . learning_rate=0.5, n_estimators=100, score=0.801, total= 1.0min\n",
      "[CV] learning_rate=0.5, n_estimators=200 .............................\n",
      "[CV] . learning_rate=0.5, n_estimators=200, score=0.802, total= 1.4min\n",
      "[CV] learning_rate=0.5, n_estimators=300 .............................\n",
      "[CV] . learning_rate=0.5, n_estimators=300, score=0.802, total= 1.6min\n",
      "[CV] learning_rate=0.5, n_estimators=100 .............................\n",
      "[CV] . learning_rate=0.5, n_estimators=100, score=0.802, total= 1.2min\n",
      "[CV] learning_rate=0.5, n_estimators=200 .............................\n",
      "[CV] . learning_rate=0.5, n_estimators=200, score=0.802, total= 1.4min\n",
      "[CV] learning_rate=0.5, n_estimators=300 .............................\n",
      "[CV] . learning_rate=0.5, n_estimators=300, score=0.802, total= 2.3min\n",
      "[CV] learning_rate=0.01, n_estimators=100 ............................\n",
      "[CV]  learning_rate=0.01, n_estimators=100, score=0.785, total= 1.6min\n",
      "[CV] learning_rate=0.01, n_estimators=200 ............................\n",
      "[CV]  learning_rate=0.01, n_estimators=200, score=0.792, total= 2.9min\n",
      "[CV] learning_rate=0.01, n_estimators=300 ............................\n",
      "[CV]  learning_rate=0.01, n_estimators=300, score=0.795, total= 3.1min\n",
      "[CV] learning_rate=0.1, n_estimators=100 .............................\n",
      "[CV] . learning_rate=0.1, n_estimators=100, score=0.801, total= 1.4min\n",
      "[CV] learning_rate=0.1, n_estimators=200 .............................\n",
      "[CV] . learning_rate=0.1, n_estimators=200, score=0.803, total= 1.9min\n",
      "[CV] learning_rate=0.1, n_estimators=300 .............................\n",
      "[CV] . learning_rate=0.1, n_estimators=300, score=0.803, total= 3.4min\n",
      "[CV] learning_rate=0.5, n_estimators=100 .............................\n",
      "[CV] . learning_rate=0.5, n_estimators=100, score=0.802, total= 1.1min\n",
      "[CV] learning_rate=0.5, n_estimators=200 .............................\n",
      "[CV] . learning_rate=0.5, n_estimators=200, score=0.799, total= 1.5min\n",
      "[CV] learning_rate=0.5, n_estimators=300 .............................\n",
      "[CV] . learning_rate=0.5, n_estimators=300, score=0.802, total= 1.7min\n"
     ]
    }
   ],
   "source": [
    "start_time = time.time()\n",
    "refined_grid = GridSearchCV(refined_estimator, param_grid=grid_params, verbose=4, cv=5, n_jobs=-4)\n",
    "refined_grid.fit(X_train, y_train)\n",
    "grid_time = time.time() - start_time\n",
    "print(\"--- %s seconds ---\" % (grid_time))"
   ]
  },
  {
   "cell_type": "code",
   "execution_count": 38,
   "id": "adce72d4",
   "metadata": {},
   "outputs": [
    {
     "name": "stdout",
     "output_type": "stream",
     "text": [
      "{'learning_rate': 0.1, 'n_estimators': 300}\n",
      "0.8028879999999999\n"
     ]
    }
   ],
   "source": [
    "print(refined_grid.best_params_)\n",
    "print(refined_grid.best_score_)"
   ]
  },
  {
   "cell_type": "code",
   "execution_count": 39,
   "id": "aeb9c0e3",
   "metadata": {},
   "outputs": [],
   "source": [
    "final_estimator = LGBMClassifier(boosting_type = \"gbdt\", objective = \"binary\", \n",
    "                           random_state=0, n_estimators = 300, metric = \"auc\",\n",
    "                            learning_rate=0.1, max_depth = 10, num_leaves = 15\n",
    "                          )"
   ]
  },
  {
   "cell_type": "code",
   "execution_count": 40,
   "id": "4d577ce9",
   "metadata": {},
   "outputs": [
    {
     "name": "stdout",
     "output_type": "stream",
     "text": [
      "--- 50.65136504173279 seconds ---\n"
     ]
    },
    {
     "data": {
      "text/plain": [
       "array([[473899,  67870],\n",
       "       [129117, 329114]])"
      ]
     },
     "execution_count": 40,
     "metadata": {},
     "output_type": "execute_result"
    }
   ],
   "source": [
    "start_time = time.time()\n",
    "final_estimator = final_estimator.fit(X_train, y_train)\n",
    "\n",
    "training_time = time.time() - start_time\n",
    "\n",
    "print(\"--- %s seconds ---\" % (training_time))\n",
    "\n",
    "y_pred = final_estimator.predict(X_test)\n",
    "y_prob = final_estimator.predict_proba(X_test)\n",
    "table = confusion_matrix(y_test, y_pred)\n",
    "table"
   ]
  },
  {
   "cell_type": "code",
   "execution_count": 42,
   "id": "c29084c4",
   "metadata": {},
   "outputs": [
    {
     "name": "stdout",
     "output_type": "stream",
     "text": [
      "0.803013\n",
      "0.8762638462940171\n",
      "[345 286  20 239 237  20 441  17 306 468 205 187 124 361 232 283 277 152]\n",
      "['lepton_1_pT', 'lepton_1_eta', 'lepton_1_phi', 'lepton_2_pT', 'lepton_2_eta', 'lepton_2_phi', 'missing_energy_magnitude', 'missing_energy_phi', 'MET_rel', 'axial_MET', 'M_R', 'M_TR_2', 'R', 'MT2', 'S_R', 'M_Delta_R', 'dPhi_r_b', 'cos(theta_r1)']\n"
     ]
    }
   ],
   "source": [
    "accuracy_final = accuracy_score(y_pred, y_test)\n",
    "print(accuracy_final)\n",
    "roc_final = roc_auc_score(y_test, y_prob[:,1])\n",
    "print(roc_final)\n",
    "print(final_estimator.feature_importances_)\n",
    "print(final_estimator.feature_name_)"
   ]
  },
  {
   "cell_type": "code",
   "execution_count": 43,
   "id": "68b9d265",
   "metadata": {},
   "outputs": [
    {
     "data": {
      "image/png": "[encoded data removed]",
      "text/plain": [
       "<Figure size 432x288 with 1 Axes>"
      ]
     },
     "metadata": {
      "needs_background": "light"
     },
     "output_type": "display_data"
    }
   ],
   "source": [
    "indices = np.argsort(final_estimator.feature_importances_)\n",
    "plt.title('LightGBM Feature Importances')\n",
    "plt.barh(range(len(indices)), final_estimator.feature_importances_[indices]/sum(final_estimator.feature_importances_), color='b', align='center')\n",
    "plt.yticks(range(len(indices)), [final_estimator.feature_name_[i] for i in indices])\n",
    "plt.xlabel('relative Importance')\n",
    "plt.show()"
   ]
  },
  {
   "cell_type": "markdown",
   "id": "eb2d4ae3",
   "metadata": {},
   "source": [
    "The test error rate of the optimized lightGBM estimator is ~0.197, which is much smaller than that of parametric methods but comparable to lightGBM, XGBoost and other tree-based methods with default parameter setting. From the above plot it is seen that the most important predictors include \n",
    "1. axial MET\n",
    "2. missing energy magnitude\n",
    "3. MT2 \n",
    "4. lepton 1 pT\n",
    "\n",
    "which are slightly different than the prediction from XGBoost, but is overall consistent. Note also that the angles are predicted to be irrelevanet in lightGBM as well in XGBoost. So it is a strong evidence that the prediction of existence of exotic particle does not depend on the emission angle of the particle, which is expected in the $\\phi$ angle we expect azimuthal symmetry. "
   ]
  },
  {
   "cell_type": "markdown",
   "id": "5a36f624",
   "metadata": {},
   "source": [
    "## 5. Conclusion and future work"
   ]
  },
  {
   "cell_type": "markdown",
   "id": "827e2c51",
   "metadata": {},
   "source": [
    "1. Optimization of hyperparameters:\n",
    "   In this work, the function GridSearchCV in the SkLearn library is used to find the best set of parameters. Although it only takes approximately 1 minute to train individual model, there are too many possible combinations of parameter which makes the total training time exceedingly long. To efficiently apply CV to select parameters, these procedures are performed in a sequentially so a lot of combinations are not tested. Therefore, it worth to spend more time on selecting parameters in a larger combination pool.\n",
    "   \n",
    "2. Deep Learning methods:\n",
    "   In the original paper, the method of neural network, as well as deep learning are employed because of the similarity of using high-level predictors and the hidden layers. The paper attempted to use deep learning method so that in the future physicist would not have to invent new observable and play with the model in a way just as good as blind guess. Therefore, re-visit this study using deep learning method would be a good study.\n",
    "   \n",
    "3. In conclusion, parametric methods and tree-based methods are used to train the model in this study. It is found that lightGBM would be the most efficient and the test error rate drops to 0.197 after performing CV serach for the best parameters."
   ]
  },
  {
   "cell_type": "code",
   "execution_count": null,
   "id": "17ef4f6a",
   "metadata": {},
   "outputs": [],
   "source": []
  }
 ],
 "metadata": {
  "kernelspec": {
   "display_name": "Python 3 (ipykernel)",
   "language": "python",
   "name": "python3"
  },
  "language_info": {
   "codemirror_mode": {
    "name": "ipython",
    "version": 3
   },
   "file_extension": ".py",
   "mimetype": "text/x-python",
   "name": "python",
   "nbconvert_exporter": "python",
   "pygments_lexer": "ipython3",
   "version": "3.8.10"
  }
 },
 "nbformat": 4,
 "nbformat_minor": 5
}
